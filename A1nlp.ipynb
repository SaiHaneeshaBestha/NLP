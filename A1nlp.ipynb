{
 "cells": [
  {
   "cell_type": "code",
   "execution_count": 323,
   "metadata": {},
   "outputs": [],
   "source": [
    "import numpy as np\n",
    "import torch\n",
    "import torch.nn as nn\n",
    "import torch.optim as optim\n",
    "import matplotlib.pyplot as plt"
   ]
  },
  {
   "cell_type": "code",
   "execution_count": 324,
   "metadata": {},
   "outputs": [],
   "source": [
    "corpus=[\"In a small, cupboard under the stairs, lived a young boy named Harry Potter. Unbeknownst to him, he was no ordinary boy but a wizard. On his eleventh birthday, Harry received a letter from a messenger owl, inviting him to attend Hogwarts School of Witchcraft and Wizardry. Excitement and adventure awaited him as he embarked on a journey to discover his magical abilities and learn about the world of wizards and magical creatures. Alongside his newfound friends Ron Weasley and Hermione Granger, Harry faced challenges, solved mysteries, and encountered the dark forces of the wizarding world, particularly the dark wizard Lord Voldemort. The story unfolds with magic, friendship, and the timeless battle between good and evil.\"]"
   ]
  },
  {
   "cell_type": "code",
   "execution_count": 325,
   "metadata": {},
   "outputs": [
    {
     "data": {
      "text/plain": [
       "[['In',\n",
       "  'a',\n",
       "  'small,',\n",
       "  'cupboard',\n",
       "  'under',\n",
       "  'the',\n",
       "  'stairs,',\n",
       "  'lived',\n",
       "  'a',\n",
       "  'young',\n",
       "  'boy',\n",
       "  'named',\n",
       "  'Harry',\n",
       "  'Potter.',\n",
       "  'Unbeknownst',\n",
       "  'to',\n",
       "  'him,',\n",
       "  'he',\n",
       "  'was',\n",
       "  'no',\n",
       "  'ordinary',\n",
       "  'boy',\n",
       "  'but',\n",
       "  'a',\n",
       "  'wizard.',\n",
       "  'On',\n",
       "  'his',\n",
       "  'eleventh',\n",
       "  'birthday,',\n",
       "  'Harry',\n",
       "  'received',\n",
       "  'a',\n",
       "  'letter',\n",
       "  'from',\n",
       "  'a',\n",
       "  'messenger',\n",
       "  'owl,',\n",
       "  'inviting',\n",
       "  'him',\n",
       "  'to',\n",
       "  'attend',\n",
       "  'Hogwarts',\n",
       "  'School',\n",
       "  'of',\n",
       "  'Witchcraft',\n",
       "  'and',\n",
       "  'Wizardry.',\n",
       "  'Excitement',\n",
       "  'and',\n",
       "  'adventure',\n",
       "  'awaited',\n",
       "  'him',\n",
       "  'as',\n",
       "  'he',\n",
       "  'embarked',\n",
       "  'on',\n",
       "  'a',\n",
       "  'journey',\n",
       "  'to',\n",
       "  'discover',\n",
       "  'his',\n",
       "  'magical',\n",
       "  'abilities',\n",
       "  'and',\n",
       "  'learn',\n",
       "  'about',\n",
       "  'the',\n",
       "  'world',\n",
       "  'of',\n",
       "  'wizards',\n",
       "  'and',\n",
       "  'magical',\n",
       "  'creatures.',\n",
       "  'Alongside',\n",
       "  'his',\n",
       "  'newfound',\n",
       "  'friends',\n",
       "  'Ron',\n",
       "  'Weasley',\n",
       "  'and',\n",
       "  'Hermione',\n",
       "  'Granger,',\n",
       "  'Harry',\n",
       "  'faced',\n",
       "  'challenges,',\n",
       "  'solved',\n",
       "  'mysteries,',\n",
       "  'and',\n",
       "  'encountered',\n",
       "  'the',\n",
       "  'dark',\n",
       "  'forces',\n",
       "  'of',\n",
       "  'the',\n",
       "  'wizarding',\n",
       "  'world,',\n",
       "  'particularly',\n",
       "  'the',\n",
       "  'dark',\n",
       "  'wizard',\n",
       "  'Lord',\n",
       "  'Voldemort.',\n",
       "  'The',\n",
       "  'story',\n",
       "  'unfolds',\n",
       "  'with',\n",
       "  'magic,',\n",
       "  'friendship,',\n",
       "  'and',\n",
       "  'the',\n",
       "  'timeless',\n",
       "  'battle',\n",
       "  'between',\n",
       "  'good',\n",
       "  'and',\n",
       "  'evil.']]"
      ]
     },
     "execution_count": 325,
     "metadata": {},
     "output_type": "execute_result"
    }
   ],
   "source": [
    "corpus = [sent.split(\" \") for sent in corpus]\n",
    "corpus"
   ]
  },
  {
   "cell_type": "code",
   "execution_count": 326,
   "metadata": {},
   "outputs": [
    {
     "data": {
      "text/plain": [
       "['Hogwarts',\n",
       " 'wizard.',\n",
       " 'On',\n",
       " 'wizarding',\n",
       " 'inviting',\n",
       " 'the',\n",
       " 'no',\n",
       " 'world,',\n",
       " 'encountered',\n",
       " 'magic,',\n",
       " 'Weasley',\n",
       " 'abilities',\n",
       " 'School',\n",
       " 'faced',\n",
       " 'on',\n",
       " 'of',\n",
       " 'wizard',\n",
       " 'about',\n",
       " 'small,',\n",
       " 'under',\n",
       " 'newfound',\n",
       " 'world',\n",
       " 'mysteries,',\n",
       " 'wizards',\n",
       " 'letter',\n",
       " 'to',\n",
       " 'solved',\n",
       " 'from',\n",
       " 'forces',\n",
       " 'messenger',\n",
       " 'discover',\n",
       " 'creatures.',\n",
       " 'him,',\n",
       " 'journey',\n",
       " 'Hermione',\n",
       " 'a',\n",
       " 'particularly',\n",
       " 'In',\n",
       " 'boy',\n",
       " 'embarked',\n",
       " 'The',\n",
       " 'ordinary',\n",
       " 'stairs,',\n",
       " 'Ron',\n",
       " 'Excitement',\n",
       " 'good',\n",
       " 'but',\n",
       " 'magical',\n",
       " 'was',\n",
       " 'evil.',\n",
       " 'Voldemort.',\n",
       " 'timeless',\n",
       " 'battle',\n",
       " 'owl,',\n",
       " 'dark',\n",
       " 'Alongside',\n",
       " 'between',\n",
       " 'awaited',\n",
       " 'adventure',\n",
       " 'attend',\n",
       " 'challenges,',\n",
       " 'friends',\n",
       " 'Unbeknownst',\n",
       " 'lived',\n",
       " 'learn',\n",
       " 'with',\n",
       " 'cupboard',\n",
       " 'received',\n",
       " 'eleventh',\n",
       " 'Harry',\n",
       " 'young',\n",
       " 'his',\n",
       " 'unfolds',\n",
       " 'story',\n",
       " 'birthday,',\n",
       " 'he',\n",
       " 'Granger,',\n",
       " 'Lord',\n",
       " 'Witchcraft',\n",
       " 'Potter.',\n",
       " 'and',\n",
       " 'named',\n",
       " 'as',\n",
       " 'friendship,',\n",
       " 'Wizardry.',\n",
       " 'him']"
      ]
     },
     "execution_count": 326,
     "metadata": {},
     "output_type": "execute_result"
    }
   ],
   "source": [
    "flatten = lambda l: [item for sublist in l for item in sublist]\n",
    "vocab = list(set(flatten(corpus)))\n",
    "vocab"
   ]
  },
  {
   "cell_type": "code",
   "execution_count": 327,
   "metadata": {},
   "outputs": [
    {
     "name": "stdout",
     "output_type": "stream",
     "text": [
      "{'Hogwarts': 0, 'wizard.': 1, 'On': 2, 'wizarding': 3, 'inviting': 4, 'the': 5, 'no': 6, 'world,': 7, 'encountered': 8, 'magic,': 9, 'Weasley': 10, 'abilities': 11, 'School': 12, 'faced': 13, 'on': 14, 'of': 15, 'wizard': 16, 'about': 17, 'small,': 18, 'under': 19, 'newfound': 20, 'world': 21, 'mysteries,': 22, 'wizards': 23, 'letter': 24, 'to': 25, 'solved': 26, 'from': 27, 'forces': 28, 'messenger': 29, 'discover': 30, 'creatures.': 31, 'him,': 32, 'journey': 33, 'Hermione': 34, 'a': 35, 'particularly': 36, 'In': 37, 'boy': 38, 'embarked': 39, 'The': 40, 'ordinary': 41, 'stairs,': 42, 'Ron': 43, 'Excitement': 44, 'good': 45, 'but': 46, 'magical': 47, 'was': 48, 'evil.': 49, 'Voldemort.': 50, 'timeless': 51, 'battle': 52, 'owl,': 53, 'dark': 54, 'Alongside': 55, 'between': 56, 'awaited': 57, 'adventure': 58, 'attend': 59, 'challenges,': 60, 'friends': 61, 'Unbeknownst': 62, 'lived': 63, 'learn': 64, 'with': 65, 'cupboard': 66, 'received': 67, 'eleventh': 68, 'Harry': 69, 'young': 70, 'his': 71, 'unfolds': 72, 'story': 73, 'birthday,': 74, 'he': 75, 'Granger,': 76, 'Lord': 77, 'Witchcraft': 78, 'Potter.': 79, 'and': 80, 'named': 81, 'as': 82, 'friendship,': 83, 'Wizardry.': 84, 'him': 85}\n"
     ]
    }
   ],
   "source": [
    "word2index = {w: i for i, w in enumerate(vocab)}\n",
    "print(word2index)"
   ]
  },
  {
   "cell_type": "code",
   "execution_count": 328,
   "metadata": {},
   "outputs": [
    {
     "name": "stdout",
     "output_type": "stream",
     "text": [
      "86\n"
     ]
    }
   ],
   "source": [
    "voc_size = len(vocab)\n",
    "print(voc_size)"
   ]
  },
  {
   "cell_type": "code",
   "execution_count": 329,
   "metadata": {},
   "outputs": [],
   "source": [
    "vocab.append('<UNK>')"
   ]
  },
  {
   "cell_type": "code",
   "execution_count": 330,
   "metadata": {},
   "outputs": [
    {
     "data": {
      "text/plain": [
       "['Hogwarts',\n",
       " 'wizard.',\n",
       " 'On',\n",
       " 'wizarding',\n",
       " 'inviting',\n",
       " 'the',\n",
       " 'no',\n",
       " 'world,',\n",
       " 'encountered',\n",
       " 'magic,',\n",
       " 'Weasley',\n",
       " 'abilities',\n",
       " 'School',\n",
       " 'faced',\n",
       " 'on',\n",
       " 'of',\n",
       " 'wizard',\n",
       " 'about',\n",
       " 'small,',\n",
       " 'under',\n",
       " 'newfound',\n",
       " 'world',\n",
       " 'mysteries,',\n",
       " 'wizards',\n",
       " 'letter',\n",
       " 'to',\n",
       " 'solved',\n",
       " 'from',\n",
       " 'forces',\n",
       " 'messenger',\n",
       " 'discover',\n",
       " 'creatures.',\n",
       " 'him,',\n",
       " 'journey',\n",
       " 'Hermione',\n",
       " 'a',\n",
       " 'particularly',\n",
       " 'In',\n",
       " 'boy',\n",
       " 'embarked',\n",
       " 'The',\n",
       " 'ordinary',\n",
       " 'stairs,',\n",
       " 'Ron',\n",
       " 'Excitement',\n",
       " 'good',\n",
       " 'but',\n",
       " 'magical',\n",
       " 'was',\n",
       " 'evil.',\n",
       " 'Voldemort.',\n",
       " 'timeless',\n",
       " 'battle',\n",
       " 'owl,',\n",
       " 'dark',\n",
       " 'Alongside',\n",
       " 'between',\n",
       " 'awaited',\n",
       " 'adventure',\n",
       " 'attend',\n",
       " 'challenges,',\n",
       " 'friends',\n",
       " 'Unbeknownst',\n",
       " 'lived',\n",
       " 'learn',\n",
       " 'with',\n",
       " 'cupboard',\n",
       " 'received',\n",
       " 'eleventh',\n",
       " 'Harry',\n",
       " 'young',\n",
       " 'his',\n",
       " 'unfolds',\n",
       " 'story',\n",
       " 'birthday,',\n",
       " 'he',\n",
       " 'Granger,',\n",
       " 'Lord',\n",
       " 'Witchcraft',\n",
       " 'Potter.',\n",
       " 'and',\n",
       " 'named',\n",
       " 'as',\n",
       " 'friendship,',\n",
       " 'Wizardry.',\n",
       " 'him',\n",
       " '<UNK>']"
      ]
     },
     "execution_count": 330,
     "metadata": {},
     "output_type": "execute_result"
    }
   ],
   "source": [
    "vocab"
   ]
  },
  {
   "cell_type": "code",
   "execution_count": 331,
   "metadata": {},
   "outputs": [],
   "source": [
    "word2index['<UNK>'] = 0"
   ]
  },
  {
   "cell_type": "code",
   "execution_count": 332,
   "metadata": {},
   "outputs": [],
   "source": [
    "index2word = {v:k for k, v in word2index.items()} "
   ]
  },
  {
   "cell_type": "code",
   "execution_count": 333,
   "metadata": {},
   "outputs": [
    {
     "name": "stdout",
     "output_type": "stream",
     "text": [
      "['In', 'a', 'small,', 'cupboard', 'under', 'the', 'stairs,', 'lived', 'a', 'young', 'boy', 'named', 'Harry', 'Potter.', 'Unbeknownst', 'to', 'him,', 'he', 'was', 'no', 'ordinary', 'boy', 'but', 'a', 'wizard.', 'On', 'his', 'eleventh', 'birthday,', 'Harry', 'received', 'a', 'letter', 'from', 'a', 'messenger', 'owl,', 'inviting', 'him', 'to', 'attend', 'Hogwarts', 'School', 'of', 'Witchcraft', 'and', 'Wizardry.', 'Excitement', 'and', 'adventure', 'awaited', 'him', 'as', 'he', 'embarked', 'on', 'a', 'journey', 'to', 'discover', 'his', 'magical', 'abilities', 'and', 'learn', 'about', 'the', 'world', 'of', 'wizards', 'and', 'magical', 'creatures.', 'Alongside', 'his', 'newfound', 'friends', 'Ron', 'Weasley', 'and', 'Hermione', 'Granger,', 'Harry', 'faced', 'challenges,', 'solved', 'mysteries,', 'and', 'encountered', 'the', 'dark', 'forces', 'of', 'the', 'wizarding', 'world,', 'particularly', 'the', 'dark', 'wizard', 'Lord', 'Voldemort.', 'The', 'story', 'unfolds', 'with', 'magic,', 'friendship,', 'and', 'the', 'timeless', 'battle', 'between', 'good', 'and', 'evil.']\n"
     ]
    }
   ],
   "source": [
    "for c in corpus:\n",
    "    print(c)"
   ]
  },
  {
   "cell_type": "code",
   "execution_count": 334,
   "metadata": {},
   "outputs": [],
   "source": [
    "def random_batch(batch_size, corpus):\n",
    "    w_size=2\n",
    "    skipgrams = []\n",
    "\n",
    "    #loop each corpus\n",
    "    for doc in corpus:\n",
    "        #look from the 2nd word until second last word\n",
    "        for i in range(w_size, len(doc)-1):\n",
    "            #center word\n",
    "            center = word2index[doc[i]]\n",
    "            #outside words = 2 words\n",
    "            outside = (word2index[doc[i-1]], word2index[doc[i+1]])\n",
    "            #for each of these two outside words, we gonna append to a list\n",
    "            for each_out in outside:\n",
    "                skipgrams.append([center, each_out])\n",
    "                #center, outside1;   center, outside2\n",
    "                \n",
    "    random_index = np.random.choice(range(len(skipgrams)), batch_size, replace=False)\n",
    "    \n",
    "    inputs, labels = [], []\n",
    "    for index in random_index:\n",
    "        inputs.append([skipgrams[index][0]])\n",
    "        labels.append([skipgrams[index][1]])\n",
    "        \n",
    "    return np.array(inputs), np.array(labels)\n",
    "            \n",
    "x, y = random_batch(2, corpus)"
   ]
  },
  {
   "cell_type": "code",
   "execution_count": null,
   "metadata": {},
   "outputs": [],
   "source": []
  },
  {
   "cell_type": "code",
   "execution_count": 335,
   "metadata": {},
   "outputs": [
    {
     "data": {
      "text/plain": [
       "array([[11],\n",
       "       [30]])"
      ]
     },
     "execution_count": 335,
     "metadata": {},
     "output_type": "execute_result"
    }
   ],
   "source": [
    "x"
   ]
  },
  {
   "cell_type": "code",
   "execution_count": 336,
   "metadata": {},
   "outputs": [
    {
     "data": {
      "text/plain": [
       "(2, 1)"
      ]
     },
     "execution_count": 336,
     "metadata": {},
     "output_type": "execute_result"
    }
   ],
   "source": [
    "y.shape"
   ]
  },
  {
   "cell_type": "code",
   "execution_count": 337,
   "metadata": {},
   "outputs": [
    {
     "data": {
      "text/plain": [
       "87"
      ]
     },
     "execution_count": 337,
     "metadata": {},
     "output_type": "execute_result"
    }
   ],
   "source": [
    "len(vocab)"
   ]
  },
  {
   "cell_type": "code",
   "execution_count": 338,
   "metadata": {},
   "outputs": [],
   "source": [
    "embedding=nn.Embedding(179,2)\n"
   ]
  },
  {
   "cell_type": "code",
   "execution_count": 339,
   "metadata": {},
   "outputs": [
    {
     "data": {
      "text/plain": [
       "torch.Size([2, 1, 2])"
      ]
     },
     "execution_count": 339,
     "metadata": {},
     "output_type": "execute_result"
    }
   ],
   "source": [
    "x_tensor = torch.LongTensor(x)\n",
    "embedding(x_tensor).shape"
   ]
  },
  {
   "cell_type": "code",
   "execution_count": 340,
   "metadata": {},
   "outputs": [],
   "source": [
    "class Skipgram(nn.Module):\n",
    "    \n",
    "    def __init__(self, voc_size, emb_size):\n",
    "        super(Skipgram, self).__init__()\n",
    "        self.embedding_center  = nn.Embedding(voc_size, emb_size)\n",
    "        self.embedding_outside = nn.Embedding(voc_size, emb_size)\n",
    "    \n",
    "    def forward(self, center, outside, all_vocabs):\n",
    "        center_embedding     = self.embedding_center(center)  #(batch_size, 1, emb_size)\n",
    "        outside_embedding    = self.embedding_outside(outside) #(batch_size, 1, emb_size)\n",
    "        all_vocabs_embedding = self.embedding_outside(all_vocabs) #(batch_size, voc_size, emb_size)\n",
    "        \n",
    "        top_term = torch.exp(outside_embedding.bmm(center_embedding.transpose(1, 2)).squeeze(2))\n",
    "        #batch_size, 1, emb_size) @ (batch_size, emb_size, 1) = (batch_size, 1, 1) = (batch_size, 1) \n",
    "\n",
    "        lower_term = all_vocabs_embedding.bmm(center_embedding.transpose(1, 2)).squeeze(2)\n",
    "        #batch_size, voc_size, emb_size) @ (batch_size, emb_size, 1) = (batch_size, voc_size, 1) = (batch_size, voc_size) \n",
    "        \n",
    "        lower_term_sum = torch.sum(torch.exp(lower_term), 1)  #(batch_size, 1)\n",
    "        \n",
    "        loss = -torch.mean(torch.log(top_term / lower_term_sum))  #scalar\n",
    "        \n",
    "        return loss"
   ]
  },
  {
   "cell_type": "code",
   "execution_count": 341,
   "metadata": {},
   "outputs": [
    {
     "data": {
      "text/plain": [
       "torch.Size([2, 87])"
      ]
     },
     "execution_count": 341,
     "metadata": {},
     "output_type": "execute_result"
    }
   ],
   "source": [
    "batch_size = 2\n",
    "voc_size   = len(vocab)\n",
    "\n",
    "def prepare_sequence(seq, word2index):\n",
    "    idxs = list(map(lambda w: word2index[w] if word2index.get(w) is not None else word2index[\"<UNK>\"], seq))\n",
    "    return torch.LongTensor(idxs)\n",
    "\n",
    "all_vocabs = prepare_sequence(list(vocab), word2index).expand(batch_size, voc_size)\n",
    "all_vocabs.shape"
   ]
  },
  {
   "cell_type": "code",
   "execution_count": 342,
   "metadata": {},
   "outputs": [
    {
     "data": {
      "text/plain": [
       "Skipgram(\n",
       "  (embedding_center): Embedding(87, 2)\n",
       "  (embedding_outside): Embedding(87, 2)\n",
       ")"
      ]
     },
     "execution_count": 342,
     "metadata": {},
     "output_type": "execute_result"
    }
   ],
   "source": [
    "model = Skipgram(voc_size, 2)\n",
    "model"
   ]
  },
  {
   "cell_type": "code",
   "execution_count": 343,
   "metadata": {},
   "outputs": [],
   "source": [
    "input_tensor = torch.LongTensor(x)\n",
    "label_tensor = torch.LongTensor(y)"
   ]
  },
  {
   "cell_type": "code",
   "execution_count": 344,
   "metadata": {},
   "outputs": [],
   "source": [
    "loss = model(input_tensor, label_tensor, all_vocabs)"
   ]
  },
  {
   "cell_type": "code",
   "execution_count": 345,
   "metadata": {},
   "outputs": [
    {
     "data": {
      "text/plain": [
       "tensor(5.6674, grad_fn=<NegBackward0>)"
      ]
     },
     "execution_count": 345,
     "metadata": {},
     "output_type": "execute_result"
    }
   ],
   "source": [
    "loss"
   ]
  },
  {
   "cell_type": "code",
   "execution_count": 346,
   "metadata": {},
   "outputs": [],
   "source": [
    "batch_size = 2\n",
    "emb_size   = 2\n",
    "model      = Skipgram(voc_size, emb_size)\n",
    "optimizer  = optim.Adam(model.parameters(), lr=0.001)"
   ]
  },
  {
   "cell_type": "code",
   "execution_count": 347,
   "metadata": {},
   "outputs": [
    {
     "name": "stdout",
     "output_type": "stream",
     "text": [
      "Epoch   1000 | Loss: 5.345418\n",
      "Epoch   2000 | Loss: 4.684894\n",
      "Epoch   3000 | Loss: 4.800433\n",
      "Epoch   4000 | Loss: 4.175435\n",
      "Epoch   5000 | Loss: 4.203016\n",
      "Epoch   6000 | Loss: 4.492420\n",
      "Epoch   7000 | Loss: 2.720114\n",
      "Epoch   8000 | Loss: 3.830761\n",
      "Epoch   9000 | Loss: 4.490171\n",
      "Epoch  10000 | Loss: 3.121840\n"
     ]
    }
   ],
   "source": [
    "num_epochs = 10000\n",
    "\n",
    "for epoch in range(num_epochs):\n",
    "    \n",
    "    #get batch\n",
    "    input_batch, label_batch = random_batch(batch_size, corpus)\n",
    "    input_tensor = torch.LongTensor(input_batch)\n",
    "    label_tensor = torch.LongTensor(label_batch)\n",
    "    \n",
    "    #predict\n",
    "    loss = model(input_tensor, label_tensor, all_vocabs)\n",
    "    \n",
    "    #backprogate\n",
    "    optimizer.zero_grad()\n",
    "    loss.backward()\n",
    "    \n",
    "    #update alpha\n",
    "    optimizer.step()\n",
    "    \n",
    "    #print the loss\n",
    "    if (epoch + 1) % 1000 == 0:\n",
    "        print(f\"Epoch {epoch+1:6.0f} | Loss: {loss:2.6f}\")"
   ]
  },
  {
   "cell_type": "code",
   "execution_count": 348,
   "metadata": {},
   "outputs": [
    {
     "data": {
      "text/plain": [
       "['Hogwarts',\n",
       " 'wizard.',\n",
       " 'On',\n",
       " 'wizarding',\n",
       " 'inviting',\n",
       " 'the',\n",
       " 'no',\n",
       " 'world,',\n",
       " 'encountered',\n",
       " 'magic,',\n",
       " 'Weasley',\n",
       " 'abilities',\n",
       " 'School',\n",
       " 'faced',\n",
       " 'on',\n",
       " 'of',\n",
       " 'wizard',\n",
       " 'about',\n",
       " 'small,',\n",
       " 'under',\n",
       " 'newfound',\n",
       " 'world',\n",
       " 'mysteries,',\n",
       " 'wizards',\n",
       " 'letter',\n",
       " 'to',\n",
       " 'solved',\n",
       " 'from',\n",
       " 'forces',\n",
       " 'messenger',\n",
       " 'discover',\n",
       " 'creatures.',\n",
       " 'him,',\n",
       " 'journey',\n",
       " 'Hermione',\n",
       " 'a',\n",
       " 'particularly',\n",
       " 'In',\n",
       " 'boy',\n",
       " 'embarked',\n",
       " 'The',\n",
       " 'ordinary',\n",
       " 'stairs,',\n",
       " 'Ron',\n",
       " 'Excitement',\n",
       " 'good',\n",
       " 'but',\n",
       " 'magical',\n",
       " 'was',\n",
       " 'evil.',\n",
       " 'Voldemort.',\n",
       " 'timeless',\n",
       " 'battle',\n",
       " 'owl,',\n",
       " 'dark',\n",
       " 'Alongside',\n",
       " 'between',\n",
       " 'awaited',\n",
       " 'adventure',\n",
       " 'attend',\n",
       " 'challenges,',\n",
       " 'friends',\n",
       " 'Unbeknownst',\n",
       " 'lived',\n",
       " 'learn',\n",
       " 'with',\n",
       " 'cupboard',\n",
       " 'received',\n",
       " 'eleventh',\n",
       " 'Harry',\n",
       " 'young',\n",
       " 'his',\n",
       " 'unfolds',\n",
       " 'story',\n",
       " 'birthday,',\n",
       " 'he',\n",
       " 'Granger,',\n",
       " 'Lord',\n",
       " 'Witchcraft',\n",
       " 'Potter.',\n",
       " 'and',\n",
       " 'named',\n",
       " 'as',\n",
       " 'friendship,',\n",
       " 'Wizardry.',\n",
       " 'him',\n",
       " '<UNK>']"
      ]
     },
     "execution_count": 348,
     "metadata": {},
     "output_type": "execute_result"
    }
   ],
   "source": [
    "vocab"
   ]
  },
  {
   "cell_type": "code",
   "execution_count": 349,
   "metadata": {},
   "outputs": [
    {
     "data": {
      "text/plain": [
       "tensor([16])"
      ]
     },
     "execution_count": 349,
     "metadata": {},
     "output_type": "execute_result"
    }
   ],
   "source": [
    "wizard=torch.LongTensor([word2index['wizard']])\n",
    "wizard"
   ]
  },
  {
   "cell_type": "code",
   "execution_count": 350,
   "metadata": {},
   "outputs": [
    {
     "data": {
      "text/plain": [
       "tensor([[ 0.0309, -0.3873]], grad_fn=<DivBackward0>)"
      ]
     },
     "execution_count": 350,
     "metadata": {},
     "output_type": "execute_result"
    }
   ],
   "source": [
    "wizard_em_c=model.embedding_center(wizard)\n",
    "wizard_em_o=model.embedding_outside(wizard)\n",
    "wizard_em=(wizard_em_c+wizard_em_o)/2\n",
    "wizard_em"
   ]
  },
  {
   "cell_type": "code",
   "execution_count": 351,
   "metadata": {},
   "outputs": [
    {
     "data": {
      "text/plain": [
       "tensor([[-0.3399, -0.6028]], grad_fn=<EmbeddingBackward0>)"
      ]
     },
     "execution_count": 351,
     "metadata": {},
     "output_type": "execute_result"
    }
   ],
   "source": [
    "wizard_em_o"
   ]
  },
  {
   "cell_type": "code",
   "execution_count": 352,
   "metadata": {},
   "outputs": [],
   "source": [
    "def get_embed(word):\n",
    "    try:\n",
    "        index = word2index[word]\n",
    "    except:\n",
    "        index = word2index['<UNK>']\n",
    "        \n",
    "    word = torch.LongTensor([word2index[word]])\n",
    "    \n",
    "    embed_c = model.embedding_center(word)\n",
    "    embed_o = model.embedding_outside(word)\n",
    "    embed   = (embed_c + embed_o) / 2\n",
    "    \n",
    "    return embed[0][0].item(), embed[0][1].item()"
   ]
  },
  {
   "cell_type": "code",
   "execution_count": 353,
   "metadata": {},
   "outputs": [
    {
     "data": {
      "text/plain": [
       "(0.43074092268943787, -0.3633840084075928)"
      ]
     },
     "execution_count": 353,
     "metadata": {},
     "output_type": "execute_result"
    }
   ],
   "source": [
    "get_embed('faced')"
   ]
  },
  {
   "cell_type": "code",
   "execution_count": 354,
   "metadata": {},
   "outputs": [
    {
     "data": {
      "text/plain": [
       "(-0.23340393602848053, -0.24257899820804596)"
      ]
     },
     "execution_count": 354,
     "metadata": {},
     "output_type": "execute_result"
    }
   ],
   "source": [
    "get_embed('Weasley')"
   ]
  },
  {
   "cell_type": "code",
   "execution_count": 355,
   "metadata": {},
   "outputs": [
    {
     "data": {
      "text/plain": [
       "(-0.7248412370681763, 1.5915250778198242)"
      ]
     },
     "execution_count": 355,
     "metadata": {},
     "output_type": "execute_result"
    }
   ],
   "source": [
    "get_embed('inviting')"
   ]
  },
  {
   "cell_type": "code",
   "execution_count": 356,
   "metadata": {},
   "outputs": [
    {
     "data": {
      "image/png": "[encoded data removed]",
      "text/plain": [
       "<Figure size 600x300 with 1 Axes>"
      ]
     },
     "metadata": {},
     "output_type": "display_data"
    }
   ],
   "source": [
    "plt.figure(figsize=(6, 3))\n",
    "for i, word in enumerate(vocab):\n",
    "    x, y = get_embed(word)\n",
    "    plt.scatter(x, y)\n",
    "    plt.annotate(word, xy=(x, y), xytext=(5, 2), textcoords='offset points')\n",
    "plt.show()"
   ]
  },
  {
   "cell_type": "code",
   "execution_count": 357,
   "metadata": {},
   "outputs": [
    {
     "data": {
      "text/plain": [
       "(0.03093421459197998, -0.38726359605789185)"
      ]
     },
     "execution_count": 357,
     "metadata": {},
     "output_type": "execute_result"
    }
   ],
   "source": [
    "wizard=get_embed('wizard')\n",
    "wizard"
   ]
  },
  {
   "cell_type": "code",
   "execution_count": 358,
   "metadata": {},
   "outputs": [
    {
     "data": {
      "text/plain": [
       "(0.43074092268943787, -0.3633840084075928)"
      ]
     },
     "execution_count": 358,
     "metadata": {},
     "output_type": "execute_result"
    }
   ],
   "source": [
    "faced=get_embed('faced')\n",
    "faced"
   ]
  },
  {
   "cell_type": "code",
   "execution_count": 359,
   "metadata": {},
   "outputs": [
    {
     "data": {
      "text/plain": [
       "(-1.0079150199890137, 0.4651910662651062)"
      ]
     },
     "execution_count": 359,
     "metadata": {},
     "output_type": "execute_result"
    }
   ],
   "source": [
    "unk=get_embed('<UNK>')\n",
    "unk"
   ]
  },
  {
   "cell_type": "code",
   "execution_count": 360,
   "metadata": {},
   "outputs": [
    {
     "data": {
      "text/plain": [
       "-0.21133062469465003"
      ]
     },
     "execution_count": 360,
     "metadata": {},
     "output_type": "execute_result"
    }
   ],
   "source": [
    "np.array(wizard) @ np.array(unk)"
   ]
  },
  {
   "cell_type": "code",
   "execution_count": 361,
   "metadata": {},
   "outputs": [
    {
     "name": "stdout",
     "output_type": "stream",
     "text": [
      "-0.49002383835360896\n",
      "0.7036286567077155\n"
     ]
    }
   ],
   "source": [
    "def cosine_similarity(A, B):\n",
    "    dot_product = np.dot(A, B)\n",
    "    norm_a = np.linalg.norm(A)\n",
    "    norm_b = np.linalg.norm(B)\n",
    "    similarity = dot_product / (norm_a * norm_b)\n",
    "    return similarity\n",
    "\n",
    "print(cosine_similarity(np.array(wizard), np.array(unk)))\n",
    "print(cosine_similarity(np.array(wizard), np.array(faced)))"
   ]
  },
  {
   "cell_type": "markdown",
   "metadata": {},
   "source": [
    "** Negative Sampling **"
   ]
  },
  {
   "cell_type": "code",
   "execution_count": 362,
   "metadata": {},
   "outputs": [],
   "source": [
    "z = 0.001"
   ]
  },
  {
   "cell_type": "code",
   "execution_count": 363,
   "metadata": {},
   "outputs": [
    {
     "data": {
      "text/plain": [
       "116"
      ]
     },
     "execution_count": 363,
     "metadata": {},
     "output_type": "execute_result"
    }
   ],
   "source": [
    "from collections import Counter\n",
    "\n",
    "word_count = Counter(flatten(corpus))\n",
    "word_count\n",
    "\n",
    "#get the total number of words\n",
    "num_total_words = sum([c for w, c in word_count.items()])\n",
    "num_total_words"
   ]
  },
  {
   "cell_type": "code",
   "execution_count": 364,
   "metadata": {},
   "outputs": [
    {
     "data": {
      "text/plain": [
       "['Hogwarts',\n",
       " 'wizard.',\n",
       " 'On',\n",
       " 'wizarding',\n",
       " 'inviting',\n",
       " 'the',\n",
       " 'no',\n",
       " 'world,',\n",
       " 'encountered',\n",
       " 'magic,',\n",
       " 'Weasley',\n",
       " 'abilities',\n",
       " 'School',\n",
       " 'faced',\n",
       " 'on',\n",
       " 'of',\n",
       " 'wizard',\n",
       " 'about',\n",
       " 'small,',\n",
       " 'under',\n",
       " 'newfound',\n",
       " 'world',\n",
       " 'mysteries,',\n",
       " 'wizards',\n",
       " 'letter',\n",
       " 'to',\n",
       " 'solved',\n",
       " 'from',\n",
       " 'forces',\n",
       " 'messenger',\n",
       " 'discover',\n",
       " 'creatures.',\n",
       " 'him,',\n",
       " 'journey',\n",
       " 'Hermione',\n",
       " 'a',\n",
       " 'particularly',\n",
       " 'In',\n",
       " 'boy',\n",
       " 'embarked',\n",
       " 'The',\n",
       " 'ordinary',\n",
       " 'stairs,',\n",
       " 'Ron',\n",
       " 'Excitement',\n",
       " 'good',\n",
       " 'but',\n",
       " 'magical',\n",
       " 'was',\n",
       " 'evil.',\n",
       " 'Voldemort.',\n",
       " 'timeless',\n",
       " 'battle',\n",
       " 'owl,',\n",
       " 'dark',\n",
       " 'Alongside',\n",
       " 'between',\n",
       " 'awaited',\n",
       " 'adventure',\n",
       " 'attend',\n",
       " 'challenges,',\n",
       " 'friends',\n",
       " 'Unbeknownst',\n",
       " 'lived',\n",
       " 'learn',\n",
       " 'with',\n",
       " 'cupboard',\n",
       " 'received',\n",
       " 'eleventh',\n",
       " 'Harry',\n",
       " 'young',\n",
       " 'his',\n",
       " 'unfolds',\n",
       " 'story',\n",
       " 'birthday,',\n",
       " 'he',\n",
       " 'Granger,',\n",
       " 'Lord',\n",
       " 'Witchcraft',\n",
       " 'Potter.',\n",
       " 'and',\n",
       " 'named',\n",
       " 'as',\n",
       " 'friendship,',\n",
       " 'Wizardry.',\n",
       " 'him',\n",
       " '<UNK>']"
      ]
     },
     "execution_count": 364,
     "metadata": {},
     "output_type": "execute_result"
    }
   ],
   "source": [
    "vocab"
   ]
  },
  {
   "cell_type": "code",
   "execution_count": 365,
   "metadata": {},
   "outputs": [
    {
     "data": {
      "text/plain": [
       "Counter({'and': 134,\n",
       "         'the': 108,\n",
       "         'a': 108,\n",
       "         'of': 64,\n",
       "         'to': 64,\n",
       "         'Harry': 64,\n",
       "         'his': 64,\n",
       "         'boy': 47,\n",
       "         'magical': 47,\n",
       "         'dark': 47,\n",
       "         'he': 47,\n",
       "         'him': 47,\n",
       "         'Hogwarts': 28,\n",
       "         'wizard.': 28,\n",
       "         'On': 28,\n",
       "         'wizarding': 28,\n",
       "         'inviting': 28,\n",
       "         'no': 28,\n",
       "         'world,': 28,\n",
       "         'encountered': 28,\n",
       "         'magic,': 28,\n",
       "         'Weasley': 28,\n",
       "         'abilities': 28,\n",
       "         'School': 28,\n",
       "         'faced': 28,\n",
       "         'on': 28,\n",
       "         'wizard': 28,\n",
       "         'about': 28,\n",
       "         'small,': 28,\n",
       "         'under': 28,\n",
       "         'newfound': 28,\n",
       "         'world': 28,\n",
       "         'mysteries,': 28,\n",
       "         'wizards': 28,\n",
       "         'letter': 28,\n",
       "         'solved': 28,\n",
       "         'from': 28,\n",
       "         'forces': 28,\n",
       "         'messenger': 28,\n",
       "         'discover': 28,\n",
       "         'creatures.': 28,\n",
       "         'him,': 28,\n",
       "         'journey': 28,\n",
       "         'Hermione': 28,\n",
       "         'particularly': 28,\n",
       "         'In': 28,\n",
       "         'embarked': 28,\n",
       "         'The': 28,\n",
       "         'ordinary': 28,\n",
       "         'stairs,': 28,\n",
       "         'Ron': 28,\n",
       "         'Excitement': 28,\n",
       "         'good': 28,\n",
       "         'but': 28,\n",
       "         'was': 28,\n",
       "         'evil.': 28,\n",
       "         'Voldemort.': 28,\n",
       "         'timeless': 28,\n",
       "         'battle': 28,\n",
       "         'owl,': 28,\n",
       "         'Alongside': 28,\n",
       "         'between': 28,\n",
       "         'awaited': 28,\n",
       "         'adventure': 28,\n",
       "         'attend': 28,\n",
       "         'challenges,': 28,\n",
       "         'friends': 28,\n",
       "         'Unbeknownst': 28,\n",
       "         'lived': 28,\n",
       "         'learn': 28,\n",
       "         'with': 28,\n",
       "         'cupboard': 28,\n",
       "         'received': 28,\n",
       "         'eleventh': 28,\n",
       "         'young': 28,\n",
       "         'unfolds': 28,\n",
       "         'story': 28,\n",
       "         'birthday,': 28,\n",
       "         'Granger,': 28,\n",
       "         'Lord': 28,\n",
       "         'Witchcraft': 28,\n",
       "         'Potter.': 28,\n",
       "         'named': 28,\n",
       "         'as': 28,\n",
       "         'friendship,': 28,\n",
       "         'Wizardry.': 28})"
      ]
     },
     "execution_count": 365,
     "metadata": {},
     "output_type": "execute_result"
    }
   ],
   "source": [
    "unigram_table = []\n",
    "\n",
    "for v in vocab:\n",
    "    uw = word_count[v] / num_total_words\n",
    "    uw_alpha = int((uw ** 0.75) / z)\n",
    "    unigram_table.extend([v] * uw_alpha)\n",
    "    \n",
    "Counter(unigram_table)"
   ]
  },
  {
   "cell_type": "code",
   "execution_count": 366,
   "metadata": {},
   "outputs": [],
   "source": [
    "def prepare_sequence(seq, word2index):\n",
    "    idxs = list(map(lambda w: word2index[w] if word2index.get(w) is not None else word2index['<UNK>'], seq))\n",
    "    return torch.LongTensor(idxs)"
   ]
  },
  {
   "cell_type": "code",
   "execution_count": 367,
   "metadata": {},
   "outputs": [],
   "source": [
    "import random\n",
    "\n",
    "def negative_sampling(targets, unigram_table, k):\n",
    "    batch_size = targets.shape[0]\n",
    "    neg_samples = []\n",
    "    for i in range(batch_size):  #(1, k)\n",
    "        target_index = targets[i].item()\n",
    "        nsample      = []\n",
    "        while (len(nsample) < k):\n",
    "            neg = random.choice(unigram_table)\n",
    "            if word2index[neg] == target_index:\n",
    "                continue\n",
    "            nsample.append(neg)\n",
    "        neg_samples.append(prepare_sequence(nsample, word2index).reshape(1, -1))\n",
    "        \n",
    "    return torch.cat(neg_samples)"
   ]
  },
  {
   "cell_type": "code",
   "execution_count": 368,
   "metadata": {},
   "outputs": [],
   "source": [
    "batch_size = 2\n",
    "x, y = random_batch(batch_size, corpus)\n",
    "x_tensor = torch.LongTensor(x)\n",
    "y_tensor = torch.LongTensor(y)"
   ]
  },
  {
   "cell_type": "code",
   "execution_count": 369,
   "metadata": {},
   "outputs": [],
   "source": [
    "k = 5\n",
    "neg_samples = negative_sampling(y_tensor, unigram_table, k)"
   ]
  },
  {
   "cell_type": "code",
   "execution_count": 370,
   "metadata": {},
   "outputs": [
    {
     "data": {
      "text/plain": [
       "tensor([29])"
      ]
     },
     "execution_count": 370,
     "metadata": {},
     "output_type": "execute_result"
    }
   ],
   "source": [
    "y_tensor[1]"
   ]
  },
  {
   "cell_type": "code",
   "execution_count": 371,
   "metadata": {},
   "outputs": [
    {
     "data": {
      "text/plain": [
       "tensor([76, 80,  5, 35, 78])"
      ]
     },
     "execution_count": 371,
     "metadata": {},
     "output_type": "execute_result"
    }
   ],
   "source": [
    "neg_samples[1]"
   ]
  },
  {
   "cell_type": "code",
   "execution_count": 372,
   "metadata": {},
   "outputs": [],
   "source": [
    "class SkipgramNeg(nn.Module):\n",
    "    \n",
    "    def __init__(self, voc_size, emb_size):\n",
    "        super(SkipgramNeg, self).__init__()\n",
    "        self.embedding_center  = nn.Embedding(voc_size, emb_size)\n",
    "        self.embedding_outside = nn.Embedding(voc_size, emb_size)\n",
    "        self.logsigmoid        = nn.LogSigmoid()\n",
    "    \n",
    "    def forward(self, center, outside, negative):\n",
    "        #center, outside:  (bs, 1)\n",
    "        #negative       :  (bs, k)\n",
    "        \n",
    "        center_embed   = self.embedding_center(center) #(bs, 1, emb_size)\n",
    "        outside_embed  = self.embedding_outside(outside) #(bs, 1, emb_size)\n",
    "        negative_embed = self.embedding_outside(negative) #(bs, k, emb_size)\n",
    "        \n",
    "        uovc           = outside_embed.bmm(center_embed.transpose(1, 2)).squeeze(2) #(bs, 1)\n",
    "        ukvc           = -negative_embed.bmm(center_embed.transpose(1, 2)).squeeze(2) #(bs, k)\n",
    "        ukvc_sum       = torch.sum(ukvc, 1).reshape(-1, 1) #(bs, 1)\n",
    "        \n",
    "        loss           = self.logsigmoid(uovc) + self.logsigmoid(ukvc_sum)\n",
    "        \n",
    "        return -torch.mean(loss)"
   ]
  },
  {
   "cell_type": "code",
   "execution_count": 373,
   "metadata": {},
   "outputs": [],
   "source": [
    "#test your model\n",
    "emb_size = 2\n",
    "voc_size = len(vocab)\n",
    "model = SkipgramNeg(voc_size, emb_size)"
   ]
  },
  {
   "cell_type": "code",
   "execution_count": 374,
   "metadata": {},
   "outputs": [],
   "source": [
    "loss = model(x_tensor, y_tensor, neg_samples)"
   ]
  },
  {
   "cell_type": "code",
   "execution_count": 375,
   "metadata": {},
   "outputs": [
    {
     "data": {
      "text/plain": [
       "tensor(0.3591, grad_fn=<NegBackward0>)"
      ]
     },
     "execution_count": 375,
     "metadata": {},
     "output_type": "execute_result"
    }
   ],
   "source": [
    "loss"
   ]
  },
  {
   "cell_type": "code",
   "execution_count": 376,
   "metadata": {},
   "outputs": [],
   "source": [
    "optimizer = optim.Adam(model.parameters(), lr=0.001)"
   ]
  },
  {
   "cell_type": "code",
   "execution_count": 377,
   "metadata": {},
   "outputs": [
    {
     "name": "stdout",
     "output_type": "stream",
     "text": [
      "Epoch   1000 | Loss: 1.625977\n",
      "Epoch   2000 | Loss: 1.540997\n",
      "Epoch   3000 | Loss: 2.176659\n",
      "Epoch   4000 | Loss: 1.217080\n",
      "Epoch   5000 | Loss: 1.733991\n",
      "Epoch   6000 | Loss: 1.209464\n",
      "Epoch   7000 | Loss: 1.383222\n",
      "Epoch   8000 | Loss: 1.826202\n",
      "Epoch   9000 | Loss: 2.127892\n",
      "Epoch  10000 | Loss: 1.098378\n"
     ]
    }
   ],
   "source": [
    "num_epochs = 10000\n",
    "\n",
    "for epoch in range(num_epochs):\n",
    "    \n",
    "    #get batch\n",
    "    input_batch, label_batch = random_batch(batch_size, corpus)\n",
    "    input_tensor = torch.LongTensor(input_batch)\n",
    "    label_tensor = torch.LongTensor(label_batch)\n",
    "    \n",
    "    #predict\n",
    "    neg_samples = negative_sampling(label_tensor, unigram_table, k)\n",
    "    loss = model(input_tensor, label_tensor, neg_samples)\n",
    "    \n",
    "    #backprogate\n",
    "    optimizer.zero_grad()\n",
    "    loss.backward()\n",
    "    \n",
    "    #update alpha\n",
    "    optimizer.step()\n",
    "    \n",
    "    #print the loss\n",
    "    if (epoch + 1) % 1000 == 0:\n",
    "        print(f\"Epoch {epoch+1:6.0f} | Loss: {loss:2.6f}\")"
   ]
  },
  {
   "cell_type": "code",
   "execution_count": 378,
   "metadata": {},
   "outputs": [
    {
     "data": {
      "text/plain": [
       "tensor([16])"
      ]
     },
     "execution_count": 378,
     "metadata": {},
     "output_type": "execute_result"
    }
   ],
   "source": [
    "wizard=torch.LongTensor([word2index['wizard']])\n",
    "wizard"
   ]
  },
  {
   "cell_type": "code",
   "execution_count": 379,
   "metadata": {},
   "outputs": [
    {
     "data": {
      "text/plain": [
       "tensor([[-0.3383,  0.1768]], grad_fn=<DivBackward0>)"
      ]
     },
     "execution_count": 379,
     "metadata": {},
     "output_type": "execute_result"
    }
   ],
   "source": [
    "wizard_em_c=model.embedding_center(wizard)\n",
    "wizard_em_o=model.embedding_outside(wizard)\n",
    "wizard_em=(wizard_em_c+wizard_em_o)/2\n",
    "wizard_em"
   ]
  },
  {
   "cell_type": "code",
   "execution_count": 380,
   "metadata": {},
   "outputs": [
    {
     "data": {
      "text/plain": [
       "tensor([[0.1763, 0.6523]], grad_fn=<EmbeddingBackward0>)"
      ]
     },
     "execution_count": 380,
     "metadata": {},
     "output_type": "execute_result"
    }
   ],
   "source": [
    "wizard_em_o"
   ]
  },
  {
   "cell_type": "code",
   "execution_count": 381,
   "metadata": {},
   "outputs": [],
   "source": [
    "def get_embed(word):\n",
    "    try:\n",
    "        index = word2index[word]\n",
    "    except:\n",
    "        index = word2index['<UNK>']\n",
    "        \n",
    "    word = torch.LongTensor([word2index[word]])\n",
    "    \n",
    "    embed_c = model.embedding_center(word)\n",
    "    embed_o = model.embedding_outside(word)\n",
    "    embed   = (embed_c + embed_o) / 2\n",
    "    \n",
    "    return embed[0][0].item(), embed[0][1].item()"
   ]
  },
  {
   "cell_type": "code",
   "execution_count": 382,
   "metadata": {},
   "outputs": [
    {
     "data": {
      "text/plain": [
       "(-0.1288096308708191, -0.38254809379577637)"
      ]
     },
     "execution_count": 382,
     "metadata": {},
     "output_type": "execute_result"
    }
   ],
   "source": [
    "get_embed('faced')"
   ]
  },
  {
   "cell_type": "code",
   "execution_count": 383,
   "metadata": {},
   "outputs": [
    {
     "data": {
      "text/plain": [
       "(-0.475069522857666, -0.45275968313217163)"
      ]
     },
     "execution_count": 383,
     "metadata": {},
     "output_type": "execute_result"
    }
   ],
   "source": [
    "get_embed('Weasley')"
   ]
  },
  {
   "cell_type": "code",
   "execution_count": 384,
   "metadata": {},
   "outputs": [
    {
     "data": {
      "text/plain": [
       "(-0.3505687415599823, -0.8595607280731201)"
      ]
     },
     "execution_count": 384,
     "metadata": {},
     "output_type": "execute_result"
    }
   ],
   "source": [
    "get_embed('inviting')"
   ]
  },
  {
   "cell_type": "code",
   "execution_count": 385,
   "metadata": {},
   "outputs": [
    {
     "data": {
      "image/png": "[encoded data removed]",
      "text/plain": [
       "<Figure size 600x300 with 1 Axes>"
      ]
     },
     "metadata": {},
     "output_type": "display_data"
    }
   ],
   "source": [
    "plt.figure(figsize=(6, 3))\n",
    "for i, word in enumerate(vocab):\n",
    "    x, y = get_embed(word)\n",
    "    plt.scatter(x, y)\n",
    "    plt.annotate(word, xy=(x, y), xytext=(5, 2), textcoords='offset points')\n",
    "plt.show()"
   ]
  },
  {
   "cell_type": "code",
   "execution_count": 386,
   "metadata": {},
   "outputs": [
    {
     "data": {
      "text/plain": [
       "(-0.338287889957428, 0.17679618299007416)"
      ]
     },
     "execution_count": 386,
     "metadata": {},
     "output_type": "execute_result"
    }
   ],
   "source": [
    "wizard=get_embed('wizard')\n",
    "wizard"
   ]
  },
  {
   "cell_type": "code",
   "execution_count": 387,
   "metadata": {},
   "outputs": [
    {
     "data": {
      "text/plain": [
       "(-0.1288096308708191, -0.38254809379577637)"
      ]
     },
     "execution_count": 387,
     "metadata": {},
     "output_type": "execute_result"
    }
   ],
   "source": [
    "faced=get_embed('faced')\n",
    "faced"
   ]
  },
  {
   "cell_type": "code",
   "execution_count": 388,
   "metadata": {},
   "outputs": [
    {
     "data": {
      "text/plain": [
       "-0.024058304559737564"
      ]
     },
     "execution_count": 388,
     "metadata": {},
     "output_type": "execute_result"
    }
   ],
   "source": [
    "np.array(wizard) @ np.array(faced)"
   ]
  },
  {
   "cell_type": "code",
   "execution_count": 389,
   "metadata": {},
   "outputs": [
    {
     "data": {
      "text/plain": [
       "(-0.4802992343902588, 1.2521966695785522)"
      ]
     },
     "execution_count": 389,
     "metadata": {},
     "output_type": "execute_result"
    }
   ],
   "source": [
    "unk=get_embed('<UNK>')\n",
    "unk"
   ]
  },
  {
   "cell_type": "code",
   "execution_count": 390,
   "metadata": {},
   "outputs": [
    {
     "name": "stdout",
     "output_type": "stream",
     "text": [
      "-0.15614737008085341\n",
      "0.7498521541286548\n"
     ]
    }
   ],
   "source": [
    "def cosine_similarity(A, B):\n",
    "    dot_product = np.dot(A, B)\n",
    "    norm_a = np.linalg.norm(A)\n",
    "    norm_b = np.linalg.norm(B)\n",
    "    similarity = dot_product / (norm_a * norm_b)\n",
    "    return similarity\n",
    "\n",
    "print(cosine_similarity(np.array(wizard), np.array(faced)))\n",
    "print(cosine_similarity(np.array(wizard), np.array(unk)))"
   ]
  },
  {
   "cell_type": "markdown",
   "metadata": {},
   "source": [
    "GloVe"
   ]
  },
  {
   "cell_type": "code",
   "execution_count": 391,
   "metadata": {},
   "outputs": [],
   "source": [
    "vocab.append('<UNK>')"
   ]
  },
  {
   "cell_type": "code",
   "execution_count": 392,
   "metadata": {},
   "outputs": [
    {
     "data": {
      "text/plain": [
       "['Hogwarts',\n",
       " 'wizard.',\n",
       " 'On',\n",
       " 'wizarding',\n",
       " 'inviting',\n",
       " 'the',\n",
       " 'no',\n",
       " 'world,',\n",
       " 'encountered',\n",
       " 'magic,',\n",
       " 'Weasley',\n",
       " 'abilities',\n",
       " 'School',\n",
       " 'faced',\n",
       " 'on',\n",
       " 'of',\n",
       " 'wizard',\n",
       " 'about',\n",
       " 'small,',\n",
       " 'under',\n",
       " 'newfound',\n",
       " 'world',\n",
       " 'mysteries,',\n",
       " 'wizards',\n",
       " 'letter',\n",
       " 'to',\n",
       " 'solved',\n",
       " 'from',\n",
       " 'forces',\n",
       " 'messenger',\n",
       " 'discover',\n",
       " 'creatures.',\n",
       " 'him,',\n",
       " 'journey',\n",
       " 'Hermione',\n",
       " 'a',\n",
       " 'particularly',\n",
       " 'In',\n",
       " 'boy',\n",
       " 'embarked',\n",
       " 'The',\n",
       " 'ordinary',\n",
       " 'stairs,',\n",
       " 'Ron',\n",
       " 'Excitement',\n",
       " 'good',\n",
       " 'but',\n",
       " 'magical',\n",
       " 'was',\n",
       " 'evil.',\n",
       " 'Voldemort.',\n",
       " 'timeless',\n",
       " 'battle',\n",
       " 'owl,',\n",
       " 'dark',\n",
       " 'Alongside',\n",
       " 'between',\n",
       " 'awaited',\n",
       " 'adventure',\n",
       " 'attend',\n",
       " 'challenges,',\n",
       " 'friends',\n",
       " 'Unbeknownst',\n",
       " 'lived',\n",
       " 'learn',\n",
       " 'with',\n",
       " 'cupboard',\n",
       " 'received',\n",
       " 'eleventh',\n",
       " 'Harry',\n",
       " 'young',\n",
       " 'his',\n",
       " 'unfolds',\n",
       " 'story',\n",
       " 'birthday,',\n",
       " 'he',\n",
       " 'Granger,',\n",
       " 'Lord',\n",
       " 'Witchcraft',\n",
       " 'Potter.',\n",
       " 'and',\n",
       " 'named',\n",
       " 'as',\n",
       " 'friendship,',\n",
       " 'Wizardry.',\n",
       " 'him',\n",
       " '<UNK>',\n",
       " '<UNK>']"
      ]
     },
     "execution_count": 392,
     "metadata": {},
     "output_type": "execute_result"
    }
   ],
   "source": [
    "vocab"
   ]
  },
  {
   "cell_type": "code",
   "execution_count": 393,
   "metadata": {},
   "outputs": [],
   "source": [
    "word2index['<UNK>'] = 0"
   ]
  },
  {
   "cell_type": "code",
   "execution_count": 394,
   "metadata": {},
   "outputs": [],
   "source": [
    "index2word = {v:k for k, v in word2index.items()} "
   ]
  },
  {
   "cell_type": "code",
   "execution_count": 395,
   "metadata": {},
   "outputs": [
    {
     "data": {
      "text/plain": [
       "Counter({'and': 8,\n",
       "         'a': 6,\n",
       "         'the': 6,\n",
       "         'Harry': 3,\n",
       "         'to': 3,\n",
       "         'his': 3,\n",
       "         'of': 3,\n",
       "         'boy': 2,\n",
       "         'he': 2,\n",
       "         'him': 2,\n",
       "         'magical': 2,\n",
       "         'dark': 2,\n",
       "         'In': 1,\n",
       "         'small,': 1,\n",
       "         'cupboard': 1,\n",
       "         'under': 1,\n",
       "         'stairs,': 1,\n",
       "         'lived': 1,\n",
       "         'young': 1,\n",
       "         'named': 1,\n",
       "         'Potter.': 1,\n",
       "         'Unbeknownst': 1,\n",
       "         'him,': 1,\n",
       "         'was': 1,\n",
       "         'no': 1,\n",
       "         'ordinary': 1,\n",
       "         'but': 1,\n",
       "         'wizard.': 1,\n",
       "         'On': 1,\n",
       "         'eleventh': 1,\n",
       "         'birthday,': 1,\n",
       "         'received': 1,\n",
       "         'letter': 1,\n",
       "         'from': 1,\n",
       "         'messenger': 1,\n",
       "         'owl,': 1,\n",
       "         'inviting': 1,\n",
       "         'attend': 1,\n",
       "         'Hogwarts': 1,\n",
       "         'School': 1,\n",
       "         'Witchcraft': 1,\n",
       "         'Wizardry.': 1,\n",
       "         'Excitement': 1,\n",
       "         'adventure': 1,\n",
       "         'awaited': 1,\n",
       "         'as': 1,\n",
       "         'embarked': 1,\n",
       "         'on': 1,\n",
       "         'journey': 1,\n",
       "         'discover': 1,\n",
       "         'abilities': 1,\n",
       "         'learn': 1,\n",
       "         'about': 1,\n",
       "         'world': 1,\n",
       "         'wizards': 1,\n",
       "         'creatures.': 1,\n",
       "         'Alongside': 1,\n",
       "         'newfound': 1,\n",
       "         'friends': 1,\n",
       "         'Ron': 1,\n",
       "         'Weasley': 1,\n",
       "         'Hermione': 1,\n",
       "         'Granger,': 1,\n",
       "         'faced': 1,\n",
       "         'challenges,': 1,\n",
       "         'solved': 1,\n",
       "         'mysteries,': 1,\n",
       "         'encountered': 1,\n",
       "         'forces': 1,\n",
       "         'wizarding': 1,\n",
       "         'world,': 1,\n",
       "         'particularly': 1,\n",
       "         'wizard': 1,\n",
       "         'Lord': 1,\n",
       "         'Voldemort.': 1,\n",
       "         'The': 1,\n",
       "         'story': 1,\n",
       "         'unfolds': 1,\n",
       "         'with': 1,\n",
       "         'magic,': 1,\n",
       "         'friendship,': 1,\n",
       "         'timeless': 1,\n",
       "         'battle': 1,\n",
       "         'between': 1,\n",
       "         'good': 1,\n",
       "         'evil.': 1})"
      ]
     },
     "execution_count": 395,
     "metadata": {},
     "output_type": "execute_result"
    }
   ],
   "source": [
    "from collections import Counter\n",
    "\n",
    "X_i = Counter(flatten(corpus))\n",
    "X_i"
   ]
  },
  {
   "cell_type": "code",
   "execution_count": 396,
   "metadata": {},
   "outputs": [
    {
     "data": {
      "text/plain": [
       "[('a', 'In'),\n",
       " ('a', 'small,'),\n",
       " ('small,', 'a'),\n",
       " ('small,', 'cupboard'),\n",
       " ('cupboard', 'small,'),\n",
       " ('cupboard', 'under'),\n",
       " ('under', 'cupboard'),\n",
       " ('under', 'the'),\n",
       " ('the', 'under'),\n",
       " ('the', 'stairs,'),\n",
       " ('stairs,', 'the'),\n",
       " ('stairs,', 'lived'),\n",
       " ('lived', 'stairs,'),\n",
       " ('lived', 'a'),\n",
       " ('a', 'lived'),\n",
       " ('a', 'young'),\n",
       " ('young', 'a'),\n",
       " ('young', 'boy'),\n",
       " ('boy', 'young'),\n",
       " ('boy', 'named'),\n",
       " ('named', 'boy'),\n",
       " ('named', 'Harry'),\n",
       " ('Harry', 'named'),\n",
       " ('Harry', 'Potter.'),\n",
       " ('Potter.', 'Harry'),\n",
       " ('Potter.', 'Unbeknownst'),\n",
       " ('Unbeknownst', 'Potter.'),\n",
       " ('Unbeknownst', 'to'),\n",
       " ('to', 'Unbeknownst'),\n",
       " ('to', 'him,'),\n",
       " ('him,', 'to'),\n",
       " ('him,', 'he'),\n",
       " ('he', 'him,'),\n",
       " ('he', 'was'),\n",
       " ('was', 'he'),\n",
       " ('was', 'no'),\n",
       " ('no', 'was'),\n",
       " ('no', 'ordinary'),\n",
       " ('ordinary', 'no'),\n",
       " ('ordinary', 'boy'),\n",
       " ('boy', 'ordinary'),\n",
       " ('boy', 'but'),\n",
       " ('but', 'boy'),\n",
       " ('but', 'a'),\n",
       " ('a', 'but'),\n",
       " ('a', 'wizard.'),\n",
       " ('wizard.', 'a'),\n",
       " ('wizard.', 'On'),\n",
       " ('On', 'wizard.'),\n",
       " ('On', 'his'),\n",
       " ('his', 'On'),\n",
       " ('his', 'eleventh'),\n",
       " ('eleventh', 'his'),\n",
       " ('eleventh', 'birthday,'),\n",
       " ('birthday,', 'eleventh'),\n",
       " ('birthday,', 'Harry'),\n",
       " ('Harry', 'birthday,'),\n",
       " ('Harry', 'received'),\n",
       " ('received', 'Harry'),\n",
       " ('received', 'a'),\n",
       " ('a', 'received'),\n",
       " ('a', 'letter'),\n",
       " ('letter', 'a'),\n",
       " ('letter', 'from'),\n",
       " ('from', 'letter'),\n",
       " ('from', 'a'),\n",
       " ('a', 'from'),\n",
       " ('a', 'messenger'),\n",
       " ('messenger', 'a'),\n",
       " ('messenger', 'owl,'),\n",
       " ('owl,', 'messenger'),\n",
       " ('owl,', 'inviting'),\n",
       " ('inviting', 'owl,'),\n",
       " ('inviting', 'him'),\n",
       " ('him', 'inviting'),\n",
       " ('him', 'to'),\n",
       " ('to', 'him'),\n",
       " ('to', 'attend'),\n",
       " ('attend', 'to'),\n",
       " ('attend', 'Hogwarts'),\n",
       " ('Hogwarts', 'attend'),\n",
       " ('Hogwarts', 'School'),\n",
       " ('School', 'Hogwarts'),\n",
       " ('School', 'of'),\n",
       " ('of', 'School'),\n",
       " ('of', 'Witchcraft'),\n",
       " ('Witchcraft', 'of'),\n",
       " ('Witchcraft', 'and'),\n",
       " ('and', 'Witchcraft'),\n",
       " ('and', 'Wizardry.'),\n",
       " ('Wizardry.', 'and'),\n",
       " ('Wizardry.', 'Excitement'),\n",
       " ('Excitement', 'Wizardry.'),\n",
       " ('Excitement', 'and'),\n",
       " ('and', 'Excitement'),\n",
       " ('and', 'adventure'),\n",
       " ('adventure', 'and'),\n",
       " ('adventure', 'awaited'),\n",
       " ('awaited', 'adventure'),\n",
       " ('awaited', 'him'),\n",
       " ('him', 'awaited'),\n",
       " ('him', 'as'),\n",
       " ('as', 'him'),\n",
       " ('as', 'he'),\n",
       " ('he', 'as'),\n",
       " ('he', 'embarked'),\n",
       " ('embarked', 'he'),\n",
       " ('embarked', 'on'),\n",
       " ('on', 'embarked'),\n",
       " ('on', 'a'),\n",
       " ('a', 'on'),\n",
       " ('a', 'journey'),\n",
       " ('journey', 'a'),\n",
       " ('journey', 'to'),\n",
       " ('to', 'journey'),\n",
       " ('to', 'discover'),\n",
       " ('discover', 'to'),\n",
       " ('discover', 'his'),\n",
       " ('his', 'discover'),\n",
       " ('his', 'magical'),\n",
       " ('magical', 'his'),\n",
       " ('magical', 'abilities'),\n",
       " ('abilities', 'magical'),\n",
       " ('abilities', 'and'),\n",
       " ('and', 'abilities'),\n",
       " ('and', 'learn'),\n",
       " ('learn', 'and'),\n",
       " ('learn', 'about'),\n",
       " ('about', 'learn'),\n",
       " ('about', 'the'),\n",
       " ('the', 'about'),\n",
       " ('the', 'world'),\n",
       " ('world', 'the'),\n",
       " ('world', 'of'),\n",
       " ('of', 'world'),\n",
       " ('of', 'wizards'),\n",
       " ('wizards', 'of'),\n",
       " ('wizards', 'and'),\n",
       " ('and', 'wizards'),\n",
       " ('and', 'magical'),\n",
       " ('magical', 'and'),\n",
       " ('magical', 'creatures.'),\n",
       " ('creatures.', 'magical'),\n",
       " ('creatures.', 'Alongside'),\n",
       " ('Alongside', 'creatures.'),\n",
       " ('Alongside', 'his'),\n",
       " ('his', 'Alongside'),\n",
       " ('his', 'newfound'),\n",
       " ('newfound', 'his'),\n",
       " ('newfound', 'friends'),\n",
       " ('friends', 'newfound'),\n",
       " ('friends', 'Ron'),\n",
       " ('Ron', 'friends'),\n",
       " ('Ron', 'Weasley'),\n",
       " ('Weasley', 'Ron'),\n",
       " ('Weasley', 'and'),\n",
       " ('and', 'Weasley'),\n",
       " ('and', 'Hermione'),\n",
       " ('Hermione', 'and'),\n",
       " ('Hermione', 'Granger,'),\n",
       " ('Granger,', 'Hermione'),\n",
       " ('Granger,', 'Harry'),\n",
       " ('Harry', 'Granger,'),\n",
       " ('Harry', 'faced'),\n",
       " ('faced', 'Harry'),\n",
       " ('faced', 'challenges,'),\n",
       " ('challenges,', 'faced'),\n",
       " ('challenges,', 'solved'),\n",
       " ('solved', 'challenges,'),\n",
       " ('solved', 'mysteries,'),\n",
       " ('mysteries,', 'solved'),\n",
       " ('mysteries,', 'and'),\n",
       " ('and', 'mysteries,'),\n",
       " ('and', 'encountered'),\n",
       " ('encountered', 'and'),\n",
       " ('encountered', 'the'),\n",
       " ('the', 'encountered'),\n",
       " ('the', 'dark'),\n",
       " ('dark', 'the'),\n",
       " ('dark', 'forces'),\n",
       " ('forces', 'dark'),\n",
       " ('forces', 'of'),\n",
       " ('of', 'forces'),\n",
       " ('of', 'the'),\n",
       " ('the', 'of'),\n",
       " ('the', 'wizarding'),\n",
       " ('wizarding', 'the'),\n",
       " ('wizarding', 'world,'),\n",
       " ('world,', 'wizarding'),\n",
       " ('world,', 'particularly'),\n",
       " ('particularly', 'world,'),\n",
       " ('particularly', 'the'),\n",
       " ('the', 'particularly'),\n",
       " ('the', 'dark'),\n",
       " ('dark', 'the'),\n",
       " ('dark', 'wizard'),\n",
       " ('wizard', 'dark'),\n",
       " ('wizard', 'Lord'),\n",
       " ('Lord', 'wizard'),\n",
       " ('Lord', 'Voldemort.'),\n",
       " ('Voldemort.', 'Lord'),\n",
       " ('Voldemort.', 'The'),\n",
       " ('The', 'Voldemort.'),\n",
       " ('The', 'story'),\n",
       " ('story', 'The'),\n",
       " ('story', 'unfolds'),\n",
       " ('unfolds', 'story'),\n",
       " ('unfolds', 'with'),\n",
       " ('with', 'unfolds'),\n",
       " ('with', 'magic,'),\n",
       " ('magic,', 'with'),\n",
       " ('magic,', 'friendship,'),\n",
       " ('friendship,', 'magic,'),\n",
       " ('friendship,', 'and'),\n",
       " ('and', 'friendship,'),\n",
       " ('and', 'the'),\n",
       " ('the', 'and'),\n",
       " ('the', 'timeless'),\n",
       " ('timeless', 'the'),\n",
       " ('timeless', 'battle'),\n",
       " ('battle', 'timeless'),\n",
       " ('battle', 'between'),\n",
       " ('between', 'battle'),\n",
       " ('between', 'good'),\n",
       " ('good', 'between'),\n",
       " ('good', 'and'),\n",
       " ('and', 'good'),\n",
       " ('and', 'evil.')]"
      ]
     },
     "execution_count": 396,
     "metadata": {},
     "output_type": "execute_result"
    }
   ],
   "source": [
    "skip_grams = []\n",
    "\n",
    "for doc in corpus:\n",
    "    for i in range(1, len(doc)-1):\n",
    "        center = doc[i]\n",
    "        outside = [doc[i-1], doc[i+1]]\n",
    "        for each_out in outside:\n",
    "            skip_grams.append((center, each_out))\n",
    "skip_grams"
   ]
  },
  {
   "cell_type": "code",
   "execution_count": 397,
   "metadata": {},
   "outputs": [
    {
     "data": {
      "text/plain": [
       "Counter({('the', 'dark'): 2,\n",
       "         ('dark', 'the'): 2,\n",
       "         ('a', 'In'): 1,\n",
       "         ('a', 'small,'): 1,\n",
       "         ('small,', 'a'): 1,\n",
       "         ('small,', 'cupboard'): 1,\n",
       "         ('cupboard', 'small,'): 1,\n",
       "         ('cupboard', 'under'): 1,\n",
       "         ('under', 'cupboard'): 1,\n",
       "         ('under', 'the'): 1,\n",
       "         ('the', 'under'): 1,\n",
       "         ('the', 'stairs,'): 1,\n",
       "         ('stairs,', 'the'): 1,\n",
       "         ('stairs,', 'lived'): 1,\n",
       "         ('lived', 'stairs,'): 1,\n",
       "         ('lived', 'a'): 1,\n",
       "         ('a', 'lived'): 1,\n",
       "         ('a', 'young'): 1,\n",
       "         ('young', 'a'): 1,\n",
       "         ('young', 'boy'): 1,\n",
       "         ('boy', 'young'): 1,\n",
       "         ('boy', 'named'): 1,\n",
       "         ('named', 'boy'): 1,\n",
       "         ('named', 'Harry'): 1,\n",
       "         ('Harry', 'named'): 1,\n",
       "         ('Harry', 'Potter.'): 1,\n",
       "         ('Potter.', 'Harry'): 1,\n",
       "         ('Potter.', 'Unbeknownst'): 1,\n",
       "         ('Unbeknownst', 'Potter.'): 1,\n",
       "         ('Unbeknownst', 'to'): 1,\n",
       "         ('to', 'Unbeknownst'): 1,\n",
       "         ('to', 'him,'): 1,\n",
       "         ('him,', 'to'): 1,\n",
       "         ('him,', 'he'): 1,\n",
       "         ('he', 'him,'): 1,\n",
       "         ('he', 'was'): 1,\n",
       "         ('was', 'he'): 1,\n",
       "         ('was', 'no'): 1,\n",
       "         ('no', 'was'): 1,\n",
       "         ('no', 'ordinary'): 1,\n",
       "         ('ordinary', 'no'): 1,\n",
       "         ('ordinary', 'boy'): 1,\n",
       "         ('boy', 'ordinary'): 1,\n",
       "         ('boy', 'but'): 1,\n",
       "         ('but', 'boy'): 1,\n",
       "         ('but', 'a'): 1,\n",
       "         ('a', 'but'): 1,\n",
       "         ('a', 'wizard.'): 1,\n",
       "         ('wizard.', 'a'): 1,\n",
       "         ('wizard.', 'On'): 1,\n",
       "         ('On', 'wizard.'): 1,\n",
       "         ('On', 'his'): 1,\n",
       "         ('his', 'On'): 1,\n",
       "         ('his', 'eleventh'): 1,\n",
       "         ('eleventh', 'his'): 1,\n",
       "         ('eleventh', 'birthday,'): 1,\n",
       "         ('birthday,', 'eleventh'): 1,\n",
       "         ('birthday,', 'Harry'): 1,\n",
       "         ('Harry', 'birthday,'): 1,\n",
       "         ('Harry', 'received'): 1,\n",
       "         ('received', 'Harry'): 1,\n",
       "         ('received', 'a'): 1,\n",
       "         ('a', 'received'): 1,\n",
       "         ('a', 'letter'): 1,\n",
       "         ('letter', 'a'): 1,\n",
       "         ('letter', 'from'): 1,\n",
       "         ('from', 'letter'): 1,\n",
       "         ('from', 'a'): 1,\n",
       "         ('a', 'from'): 1,\n",
       "         ('a', 'messenger'): 1,\n",
       "         ('messenger', 'a'): 1,\n",
       "         ('messenger', 'owl,'): 1,\n",
       "         ('owl,', 'messenger'): 1,\n",
       "         ('owl,', 'inviting'): 1,\n",
       "         ('inviting', 'owl,'): 1,\n",
       "         ('inviting', 'him'): 1,\n",
       "         ('him', 'inviting'): 1,\n",
       "         ('him', 'to'): 1,\n",
       "         ('to', 'him'): 1,\n",
       "         ('to', 'attend'): 1,\n",
       "         ('attend', 'to'): 1,\n",
       "         ('attend', 'Hogwarts'): 1,\n",
       "         ('Hogwarts', 'attend'): 1,\n",
       "         ('Hogwarts', 'School'): 1,\n",
       "         ('School', 'Hogwarts'): 1,\n",
       "         ('School', 'of'): 1,\n",
       "         ('of', 'School'): 1,\n",
       "         ('of', 'Witchcraft'): 1,\n",
       "         ('Witchcraft', 'of'): 1,\n",
       "         ('Witchcraft', 'and'): 1,\n",
       "         ('and', 'Witchcraft'): 1,\n",
       "         ('and', 'Wizardry.'): 1,\n",
       "         ('Wizardry.', 'and'): 1,\n",
       "         ('Wizardry.', 'Excitement'): 1,\n",
       "         ('Excitement', 'Wizardry.'): 1,\n",
       "         ('Excitement', 'and'): 1,\n",
       "         ('and', 'Excitement'): 1,\n",
       "         ('and', 'adventure'): 1,\n",
       "         ('adventure', 'and'): 1,\n",
       "         ('adventure', 'awaited'): 1,\n",
       "         ('awaited', 'adventure'): 1,\n",
       "         ('awaited', 'him'): 1,\n",
       "         ('him', 'awaited'): 1,\n",
       "         ('him', 'as'): 1,\n",
       "         ('as', 'him'): 1,\n",
       "         ('as', 'he'): 1,\n",
       "         ('he', 'as'): 1,\n",
       "         ('he', 'embarked'): 1,\n",
       "         ('embarked', 'he'): 1,\n",
       "         ('embarked', 'on'): 1,\n",
       "         ('on', 'embarked'): 1,\n",
       "         ('on', 'a'): 1,\n",
       "         ('a', 'on'): 1,\n",
       "         ('a', 'journey'): 1,\n",
       "         ('journey', 'a'): 1,\n",
       "         ('journey', 'to'): 1,\n",
       "         ('to', 'journey'): 1,\n",
       "         ('to', 'discover'): 1,\n",
       "         ('discover', 'to'): 1,\n",
       "         ('discover', 'his'): 1,\n",
       "         ('his', 'discover'): 1,\n",
       "         ('his', 'magical'): 1,\n",
       "         ('magical', 'his'): 1,\n",
       "         ('magical', 'abilities'): 1,\n",
       "         ('abilities', 'magical'): 1,\n",
       "         ('abilities', 'and'): 1,\n",
       "         ('and', 'abilities'): 1,\n",
       "         ('and', 'learn'): 1,\n",
       "         ('learn', 'and'): 1,\n",
       "         ('learn', 'about'): 1,\n",
       "         ('about', 'learn'): 1,\n",
       "         ('about', 'the'): 1,\n",
       "         ('the', 'about'): 1,\n",
       "         ('the', 'world'): 1,\n",
       "         ('world', 'the'): 1,\n",
       "         ('world', 'of'): 1,\n",
       "         ('of', 'world'): 1,\n",
       "         ('of', 'wizards'): 1,\n",
       "         ('wizards', 'of'): 1,\n",
       "         ('wizards', 'and'): 1,\n",
       "         ('and', 'wizards'): 1,\n",
       "         ('and', 'magical'): 1,\n",
       "         ('magical', 'and'): 1,\n",
       "         ('magical', 'creatures.'): 1,\n",
       "         ('creatures.', 'magical'): 1,\n",
       "         ('creatures.', 'Alongside'): 1,\n",
       "         ('Alongside', 'creatures.'): 1,\n",
       "         ('Alongside', 'his'): 1,\n",
       "         ('his', 'Alongside'): 1,\n",
       "         ('his', 'newfound'): 1,\n",
       "         ('newfound', 'his'): 1,\n",
       "         ('newfound', 'friends'): 1,\n",
       "         ('friends', 'newfound'): 1,\n",
       "         ('friends', 'Ron'): 1,\n",
       "         ('Ron', 'friends'): 1,\n",
       "         ('Ron', 'Weasley'): 1,\n",
       "         ('Weasley', 'Ron'): 1,\n",
       "         ('Weasley', 'and'): 1,\n",
       "         ('and', 'Weasley'): 1,\n",
       "         ('and', 'Hermione'): 1,\n",
       "         ('Hermione', 'and'): 1,\n",
       "         ('Hermione', 'Granger,'): 1,\n",
       "         ('Granger,', 'Hermione'): 1,\n",
       "         ('Granger,', 'Harry'): 1,\n",
       "         ('Harry', 'Granger,'): 1,\n",
       "         ('Harry', 'faced'): 1,\n",
       "         ('faced', 'Harry'): 1,\n",
       "         ('faced', 'challenges,'): 1,\n",
       "         ('challenges,', 'faced'): 1,\n",
       "         ('challenges,', 'solved'): 1,\n",
       "         ('solved', 'challenges,'): 1,\n",
       "         ('solved', 'mysteries,'): 1,\n",
       "         ('mysteries,', 'solved'): 1,\n",
       "         ('mysteries,', 'and'): 1,\n",
       "         ('and', 'mysteries,'): 1,\n",
       "         ('and', 'encountered'): 1,\n",
       "         ('encountered', 'and'): 1,\n",
       "         ('encountered', 'the'): 1,\n",
       "         ('the', 'encountered'): 1,\n",
       "         ('dark', 'forces'): 1,\n",
       "         ('forces', 'dark'): 1,\n",
       "         ('forces', 'of'): 1,\n",
       "         ('of', 'forces'): 1,\n",
       "         ('of', 'the'): 1,\n",
       "         ('the', 'of'): 1,\n",
       "         ('the', 'wizarding'): 1,\n",
       "         ('wizarding', 'the'): 1,\n",
       "         ('wizarding', 'world,'): 1,\n",
       "         ('world,', 'wizarding'): 1,\n",
       "         ('world,', 'particularly'): 1,\n",
       "         ('particularly', 'world,'): 1,\n",
       "         ('particularly', 'the'): 1,\n",
       "         ('the', 'particularly'): 1,\n",
       "         ('dark', 'wizard'): 1,\n",
       "         ('wizard', 'dark'): 1,\n",
       "         ('wizard', 'Lord'): 1,\n",
       "         ('Lord', 'wizard'): 1,\n",
       "         ('Lord', 'Voldemort.'): 1,\n",
       "         ('Voldemort.', 'Lord'): 1,\n",
       "         ('Voldemort.', 'The'): 1,\n",
       "         ('The', 'Voldemort.'): 1,\n",
       "         ('The', 'story'): 1,\n",
       "         ('story', 'The'): 1,\n",
       "         ('story', 'unfolds'): 1,\n",
       "         ('unfolds', 'story'): 1,\n",
       "         ('unfolds', 'with'): 1,\n",
       "         ('with', 'unfolds'): 1,\n",
       "         ('with', 'magic,'): 1,\n",
       "         ('magic,', 'with'): 1,\n",
       "         ('magic,', 'friendship,'): 1,\n",
       "         ('friendship,', 'magic,'): 1,\n",
       "         ('friendship,', 'and'): 1,\n",
       "         ('and', 'friendship,'): 1,\n",
       "         ('and', 'the'): 1,\n",
       "         ('the', 'and'): 1,\n",
       "         ('the', 'timeless'): 1,\n",
       "         ('timeless', 'the'): 1,\n",
       "         ('timeless', 'battle'): 1,\n",
       "         ('battle', 'timeless'): 1,\n",
       "         ('battle', 'between'): 1,\n",
       "         ('between', 'battle'): 1,\n",
       "         ('between', 'good'): 1,\n",
       "         ('good', 'between'): 1,\n",
       "         ('good', 'and'): 1,\n",
       "         ('and', 'good'): 1,\n",
       "         ('and', 'evil.'): 1})"
      ]
     },
     "execution_count": 397,
     "metadata": {},
     "output_type": "execute_result"
    }
   ],
   "source": [
    "X_ik_skipgrams = Counter(skip_grams)\n",
    "X_ik_skipgrams"
   ]
  },
  {
   "cell_type": "code",
   "execution_count": 398,
   "metadata": {},
   "outputs": [],
   "source": [
    "def weighting(w_i, w_j, X_ik):\n",
    "    \n",
    "    #check whether the co-occurences between w_i and w_j is available\n",
    "    try:\n",
    "        x_ij = X_ik[(w_i, w_j)]\n",
    "        #if not exist, then set to 1 \"laplace smoothing\"\n",
    "    except:\n",
    "        x_ij = 1\n",
    "        \n",
    "    #set xmax\n",
    "    x_max = 100\n",
    "    #set alpha\n",
    "    alpha = 0.75\n",
    "    \n",
    "    #if co-ocurrence does not exceeed xmax, then just multiply with some alpha\n",
    "    if x_ij < x_max:\n",
    "        result = (x_ij / x_max)**alpha\n",
    "    #otherwise, set to 1\n",
    "    else:\n",
    "        result = 1\n",
    "    \n",
    "    return result"
   ]
  },
  {
   "cell_type": "code",
   "execution_count": 399,
   "metadata": {},
   "outputs": [],
   "source": [
    "from itertools import combinations_with_replacement\n",
    "\n",
    "X_ik = {} #keeping the co-occurences\n",
    "weighting_dic = {} #already scale the co-occurences using the weighting function\n",
    "\n",
    "for bigram in combinations_with_replacement(vocab, 2):\n",
    "    if X_ik_skipgrams.get(bigram):  #if the pair exists in our corpus\n",
    "        co = X_ik_skipgrams[bigram]\n",
    "        X_ik[bigram] = co + 1 #for stability\n",
    "        X_ik[(bigram[1], bigram[0])] = co + 1 #basically apple, banana = banana, apple\n",
    "    else:\n",
    "        pass\n",
    "    \n",
    "    weighting_dic[bigram] = weighting(bigram[0], bigram[1], X_ik)\n",
    "    weighting_dic[(bigram[1], bigram[0])] = weighting(bigram[1], bigram[0], X_ik)"
   ]
  },
  {
   "cell_type": "code",
   "execution_count": 400,
   "metadata": {},
   "outputs": [],
   "source": [
    "import math\n",
    "\n",
    "def random_batch(batch_size, word_sequence, skip_grams, X_ik, weighting_dic):\n",
    "    \n",
    "    random_inputs, random_labels, random_coocs, random_weightings = [], [], [], []\n",
    "    \n",
    "    #convert our skipgrams to id\n",
    "    skip_grams_id = [(word2index[skip_gram[0]], word2index[skip_gram[1]]) for skip_gram in skip_grams]\n",
    "    \n",
    "    #randomly choose indexes based on batch size\n",
    "    random_index = np.random.choice(range(len(skip_grams_id)), batch_size, replace=False)\n",
    "    \n",
    "    #get the random input and labels\n",
    "    for index in random_index:\n",
    "        random_inputs.append([skip_grams_id[index][0]])\n",
    "        random_labels.append([skip_grams_id[index][1]])\n",
    "        #coocs\n",
    "        pair = skip_grams[index] #e.g., ('banana', 'fruit')\n",
    "        try:\n",
    "            cooc = X_ik[pair]\n",
    "        except:\n",
    "            cooc = 1\n",
    "        random_coocs.append([math.log(cooc)])\n",
    "    \n",
    "        #weightings\n",
    "        weighting = weighting_dic[pair]\n",
    "        random_weightings.append([weighting])\n",
    "        \n",
    "    return np.array(random_inputs), np.array(random_labels), np.array(random_coocs), np.array(random_weightings)"
   ]
  },
  {
   "cell_type": "code",
   "execution_count": 401,
   "metadata": {},
   "outputs": [],
   "source": [
    "batch_size=2\n",
    "x, y, cooc, weighting = random_batch(batch_size, corpus, skip_grams, X_ik, weighting_dic)\n"
   ]
  },
  {
   "cell_type": "code",
   "execution_count": 402,
   "metadata": {},
   "outputs": [
    {
     "data": {
      "text/plain": [
       "array([[12],\n",
       "       [73]])"
      ]
     },
     "execution_count": 402,
     "metadata": {},
     "output_type": "execute_result"
    }
   ],
   "source": [
    "x"
   ]
  },
  {
   "cell_type": "code",
   "execution_count": 403,
   "metadata": {},
   "outputs": [
    {
     "data": {
      "text/plain": [
       "array([[ 0],\n",
       "       [40]])"
      ]
     },
     "execution_count": 403,
     "metadata": {},
     "output_type": "execute_result"
    }
   ],
   "source": [
    "y"
   ]
  },
  {
   "cell_type": "code",
   "execution_count": 404,
   "metadata": {},
   "outputs": [
    {
     "data": {
      "text/plain": [
       "array([[0.69314718],\n",
       "       [0.69314718]])"
      ]
     },
     "execution_count": 404,
     "metadata": {},
     "output_type": "execute_result"
    }
   ],
   "source": [
    "cooc"
   ]
  },
  {
   "cell_type": "code",
   "execution_count": 405,
   "metadata": {},
   "outputs": [
    {
     "data": {
      "text/plain": [
       "array([[0.05318296],\n",
       "       [0.05318296]])"
      ]
     },
     "execution_count": 405,
     "metadata": {},
     "output_type": "execute_result"
    }
   ],
   "source": [
    "weighting"
   ]
  },
  {
   "cell_type": "code",
   "execution_count": 406,
   "metadata": {},
   "outputs": [],
   "source": [
    "class Glove(nn.Module):\n",
    "    \n",
    "    def __init__(self, voc_size, emb_size):\n",
    "        super(Glove, self).__init__()\n",
    "        self.center_embedding  = nn.Embedding(voc_size, emb_size)\n",
    "        self.outside_embedding = nn.Embedding(voc_size, emb_size)\n",
    "        \n",
    "        self.center_bias       = nn.Embedding(voc_size, 1) \n",
    "        self.outside_bias      = nn.Embedding(voc_size, 1)\n",
    "    \n",
    "    def forward(self, center, outside, coocs, weighting):\n",
    "        center_embeds  = self.center_embedding(center) #(batch_size, 1, emb_size)\n",
    "        outside_embeds = self.outside_embedding(outside) #(batch_size, 1, emb_size)\n",
    "        \n",
    "        center_bias    = self.center_bias(center).squeeze(1)\n",
    "        target_bias    = self.outside_bias(outside).squeeze(1)\n",
    "        \n",
    "        inner_product  = outside_embeds.bmm(center_embeds.transpose(1, 2)).squeeze(2)\n",
    "        #(batch_size, 1, emb_size) @ (batch_size, emb_size, 1) = (batch_size, 1, 1) = (batch_size, 1)\n",
    "        \n",
    "        loss = weighting * torch.pow(inner_product + center_bias + target_bias - coocs, 2)\n",
    "        \n",
    "        return torch.sum(loss)"
   ]
  },
  {
   "cell_type": "code",
   "execution_count": 407,
   "metadata": {},
   "outputs": [],
   "source": [
    "voc_size = len(vocab)\n",
    "emb_size = 2\n",
    "model = Glove(voc_size, emb_size)"
   ]
  },
  {
   "cell_type": "code",
   "execution_count": 408,
   "metadata": {},
   "outputs": [],
   "source": [
    "x_tensor = torch.LongTensor(x)\n",
    "y_tensor = torch.LongTensor(y)\n",
    "cooc_tensor = torch.FloatTensor(cooc)\n",
    "weighting_tensor = torch.FloatTensor(weighting)"
   ]
  },
  {
   "cell_type": "code",
   "execution_count": 409,
   "metadata": {},
   "outputs": [],
   "source": [
    "\n",
    "loss = model(x_tensor, y_tensor, cooc_tensor, weighting_tensor)"
   ]
  },
  {
   "cell_type": "code",
   "execution_count": 410,
   "metadata": {},
   "outputs": [
    {
     "data": {
      "text/plain": [
       "tensor(0.0877, grad_fn=<SumBackward0>)"
      ]
     },
     "execution_count": 410,
     "metadata": {},
     "output_type": "execute_result"
    }
   ],
   "source": [
    "loss"
   ]
  },
  {
   "cell_type": "code",
   "execution_count": 411,
   "metadata": {},
   "outputs": [],
   "source": [
    "batch_size     = 10 # mini-batch size\n",
    "embedding_size = 2 #so we can later plot\n",
    "model          = Glove(voc_size, embedding_size)\n",
    "\n",
    "criterion = nn.CrossEntropyLoss()\n",
    "optimizer = optim.Adam(model.parameters(), lr=0.001)"
   ]
  },
  {
   "cell_type": "code",
   "execution_count": 412,
   "metadata": {},
   "outputs": [],
   "source": [
    "def epoch_time(start_time, end_time):\n",
    "    elapsed_time = end_time - start_time\n",
    "    elapsed_mins = int(elapsed_time / 60)\n",
    "    elapsed_secs = int(elapsed_time - (elapsed_mins * 60))\n",
    "    return elapsed_mins, elapsed_secs"
   ]
  },
  {
   "cell_type": "code",
   "execution_count": 413,
   "metadata": {},
   "outputs": [
    {
     "name": "stdout",
     "output_type": "stream",
     "text": [
      "Epoch: 1000 | cost: 1.240355 | time: 0m 0s\n",
      "Epoch: 2000 | cost: 0.211657 | time: 0m 0s\n",
      "Epoch: 3000 | cost: 0.072201 | time: 0m 0s\n",
      "Epoch: 4000 | cost: 0.148230 | time: 0m 0s\n",
      "Epoch: 5000 | cost: 0.235763 | time: 0m 0s\n",
      "Epoch: 6000 | cost: 0.003181 | time: 0m 0s\n",
      "Epoch: 7000 | cost: 0.009267 | time: 0m 0s\n",
      "Epoch: 8000 | cost: 0.000766 | time: 0m 0s\n",
      "Epoch: 9000 | cost: 0.000147 | time: 0m 0s\n",
      "Epoch: 10000 | cost: 0.000018 | time: 0m 0s\n"
     ]
    }
   ],
   "source": [
    "import time\n",
    "\n",
    "# Training\n",
    "num_epochs = 10000\n",
    "for epoch in range(num_epochs):\n",
    "    \n",
    "    start = time.time()\n",
    "    \n",
    "    input_batch, target_batch, cooc_batch, weighting_batch = random_batch(batch_size, corpus, skip_grams, X_ik, weighting_dic)\n",
    "    input_batch  = torch.LongTensor(input_batch)         #[batch_size, 1]\n",
    "    target_batch = torch.LongTensor(target_batch)        #[batch_size, 1]\n",
    "    cooc_batch   = torch.FloatTensor(cooc_batch)         #[batch_size, 1]\n",
    "    weighting_batch = torch.FloatTensor(weighting_batch) #[batch_size, 1]\n",
    "    \n",
    "    optimizer.zero_grad()\n",
    "    loss = model(input_batch, target_batch, cooc_batch, weighting_batch)\n",
    "    \n",
    "    loss.backward()\n",
    "    optimizer.step()\n",
    "    \n",
    "    end = time.time()\n",
    "    \n",
    "    epoch_mins, epoch_secs = epoch_time(start, end)\n",
    "\n",
    "    if (epoch + 1) % 1000 == 0:\n",
    "        print(f\"Epoch: {epoch + 1} | cost: {loss:.6f} | time: {epoch_mins}m {epoch_secs}s\")"
   ]
  },
  {
   "cell_type": "code",
   "execution_count": 414,
   "metadata": {},
   "outputs": [
    {
     "data": {
      "text/plain": [
       "['Hogwarts',\n",
       " 'wizard.',\n",
       " 'On',\n",
       " 'wizarding',\n",
       " 'inviting',\n",
       " 'the',\n",
       " 'no',\n",
       " 'world,',\n",
       " 'encountered',\n",
       " 'magic,']"
      ]
     },
     "execution_count": 414,
     "metadata": {},
     "output_type": "execute_result"
    }
   ],
   "source": [
    "vocab[:10]"
   ]
  },
  {
   "cell_type": "code",
   "execution_count": 415,
   "metadata": {},
   "outputs": [],
   "source": [
    "word = vocab[0]"
   ]
  },
  {
   "cell_type": "code",
   "execution_count": 416,
   "metadata": {},
   "outputs": [
    {
     "data": {
      "text/plain": [
       "0"
      ]
     },
     "execution_count": 416,
     "metadata": {},
     "output_type": "execute_result"
    }
   ],
   "source": [
    "#numericalization\n",
    "id = word2index[word]\n",
    "id"
   ]
  },
  {
   "cell_type": "code",
   "execution_count": 417,
   "metadata": {},
   "outputs": [
    {
     "data": {
      "text/plain": [
       "tensor([0])"
      ]
     },
     "execution_count": 417,
     "metadata": {},
     "output_type": "execute_result"
    }
   ],
   "source": [
    "id_tensor = torch.LongTensor([id])\n",
    "id_tensor"
   ]
  },
  {
   "cell_type": "code",
   "execution_count": 418,
   "metadata": {},
   "outputs": [
    {
     "data": {
      "text/plain": [
       "(tensor([[0.0689, 1.1517]], grad_fn=<EmbeddingBackward0>),\n",
       " tensor([[-1.1203,  0.1466]], grad_fn=<EmbeddingBackward0>))"
      ]
     },
     "execution_count": 418,
     "metadata": {},
     "output_type": "execute_result"
    }
   ],
   "source": [
    "v_embed = model.center_embedding(id_tensor)\n",
    "u_embed = model.outside_embedding(id_tensor)\n",
    "\n",
    "v_embed, u_embed"
   ]
  },
  {
   "cell_type": "code",
   "execution_count": 419,
   "metadata": {},
   "outputs": [
    {
     "data": {
      "text/plain": [
       "tensor([[-0.5257,  0.6492]], grad_fn=<DivBackward0>)"
      ]
     },
     "execution_count": 419,
     "metadata": {},
     "output_type": "execute_result"
    }
   ],
   "source": [
    "#average to get the word embedding\n",
    "word_embed = (v_embed + u_embed) / 2\n",
    "word_embed"
   ]
  },
  {
   "cell_type": "code",
   "execution_count": 420,
   "metadata": {},
   "outputs": [],
   "source": [
    "def get_embed(word):\n",
    "    id_tensor = torch.LongTensor([word2index[word]])\n",
    "    v_embed = model.center_embedding(id_tensor)\n",
    "    u_embed = model.outside_embedding(id_tensor) \n",
    "    word_embed = (v_embed + u_embed) / 2 \n",
    "    x, y = word_embed[0][0].item(), word_embed[0][1].item()\n",
    "\n",
    "    return x, y"
   ]
  },
  {
   "cell_type": "code",
   "execution_count": 421,
   "metadata": {},
   "outputs": [
    {
     "data": {
      "image/png": "[encoded data removed]",
      "text/plain": [
       "<Figure size 600x300 with 1 Axes>"
      ]
     },
     "metadata": {},
     "output_type": "display_data"
    }
   ],
   "source": [
    "plt.figure(figsize=(6,3))\n",
    "for i, word in enumerate(vocab[:20]): #loop each unique vocab\n",
    "    x, y = get_embed(word)\n",
    "    plt.scatter(x, y)\n",
    "    plt.annotate(word, xy=(x, y), xytext=(5, 2), textcoords='offset points')\n",
    "plt.show()"
   ]
  },
  {
   "cell_type": "code",
   "execution_count": 422,
   "metadata": {},
   "outputs": [
    {
     "data": {
      "text/plain": [
       "['Hogwarts',\n",
       " 'wizard.',\n",
       " 'On',\n",
       " 'wizarding',\n",
       " 'inviting',\n",
       " 'the',\n",
       " 'no',\n",
       " 'world,',\n",
       " 'encountered',\n",
       " 'magic,',\n",
       " 'Weasley',\n",
       " 'abilities',\n",
       " 'School',\n",
       " 'faced',\n",
       " 'on',\n",
       " 'of',\n",
       " 'wizard',\n",
       " 'about',\n",
       " 'small,',\n",
       " 'under',\n",
       " 'newfound',\n",
       " 'world',\n",
       " 'mysteries,',\n",
       " 'wizards',\n",
       " 'letter',\n",
       " 'to',\n",
       " 'solved',\n",
       " 'from',\n",
       " 'forces',\n",
       " 'messenger',\n",
       " 'discover',\n",
       " 'creatures.',\n",
       " 'him,',\n",
       " 'journey',\n",
       " 'Hermione',\n",
       " 'a',\n",
       " 'particularly',\n",
       " 'In',\n",
       " 'boy',\n",
       " 'embarked',\n",
       " 'The',\n",
       " 'ordinary',\n",
       " 'stairs,',\n",
       " 'Ron',\n",
       " 'Excitement',\n",
       " 'good',\n",
       " 'but',\n",
       " 'magical',\n",
       " 'was',\n",
       " 'evil.',\n",
       " 'Voldemort.',\n",
       " 'timeless',\n",
       " 'battle',\n",
       " 'owl,',\n",
       " 'dark',\n",
       " 'Alongside',\n",
       " 'between',\n",
       " 'awaited',\n",
       " 'adventure',\n",
       " 'attend',\n",
       " 'challenges,',\n",
       " 'friends',\n",
       " 'Unbeknownst',\n",
       " 'lived',\n",
       " 'learn',\n",
       " 'with',\n",
       " 'cupboard',\n",
       " 'received',\n",
       " 'eleventh',\n",
       " 'Harry',\n",
       " 'young',\n",
       " 'his',\n",
       " 'unfolds',\n",
       " 'story',\n",
       " 'birthday,',\n",
       " 'he',\n",
       " 'Granger,',\n",
       " 'Lord',\n",
       " 'Witchcraft',\n",
       " 'Potter.',\n",
       " 'and',\n",
       " 'named',\n",
       " 'as',\n",
       " 'friendship,',\n",
       " 'Wizardry.',\n",
       " 'him',\n",
       " '<UNK>',\n",
       " '<UNK>']"
      ]
     },
     "execution_count": 422,
     "metadata": {},
     "output_type": "execute_result"
    }
   ],
   "source": [
    "vocab"
   ]
  },
  {
   "cell_type": "code",
   "execution_count": 423,
   "metadata": {},
   "outputs": [],
   "source": [
    "wizard=get_embed('wizard')\n",
    "faced=get_embed('faced')\n"
   ]
  },
  {
   "cell_type": "code",
   "execution_count": 424,
   "metadata": {},
   "outputs": [
    {
     "name": "stdout",
     "output_type": "stream",
     "text": [
      "wizard vs. faced:  -0.7532893666027048\n"
     ]
    }
   ],
   "source": [
    "from numpy import dot\n",
    "from numpy.linalg import norm\n",
    "\n",
    "def cos_sim(a, b):\n",
    "    cos_sim = dot(a, b)/(norm(a)*norm(b))\n",
    "    return cos_sim\n",
    "    \n",
    "print(f\"wizard vs. faced: \",        cos_sim(wizard, faced))\n"
   ]
  },
  {
   "cell_type": "code",
   "execution_count": 425,
   "metadata": {},
   "outputs": [
    {
     "name": "stdout",
     "output_type": "stream",
     "text": [
      "wizard vs. faced:  -0.7532893666027047\n"
     ]
    }
   ],
   "source": [
    "from scipy import spatial\n",
    "\n",
    "def cos_sim(a, b):\n",
    "    cos_sim = 1 - spatial.distance.cosine(a, b)  #distance = 1 - similarlity, because scipy only gives distance\n",
    "    return cos_sim\n",
    "\n",
    "print(f\"wizard vs. faced: \",        cos_sim(wizard, faced))"
   ]
  },
  {
   "cell_type": "code",
   "execution_count": null,
   "metadata": {},
   "outputs": [],
   "source": []
  }
 ],
 "metadata": {
  "kernelspec": {
   "display_name": "Python 3",
   "language": "python",
   "name": "python3"
  },
  "language_info": {
   "name": "python",
   "version": "3.11.4"
  }
 },
 "nbformat": 4,
 "nbformat_minor": 2
}
